{
 "cells": [
  {
   "cell_type": "markdown",
   "id": "c089cdbd",
   "metadata": {},
   "source": [
    "# STROKE PREDICTION"
   ]
  },
  {
   "cell_type": "markdown",
   "id": "881d1ab2",
   "metadata": {},
   "source": [
    "Stroke is a medical emergency. A stroke occurs when blood flow to a part of your brain is interrupted or reduced, preventing brain tissue from getting oxygen and nutrients. Brain cells begin to die within minutes.\n",
    "\n",
    "Context:\n",
    "\n",
    "According to the World Health Organization (WHO) stroke is the 2nd leading cause of death globally, responsible for approximately 11% of total deaths.\n",
    "This dataset is used to predict whether a patient is likely to get stroke based on the input parameters like gender, age, various diseases, and smoking status. Each row in the data provides relavant information about the patient.\n",
    "\n",
    "Attribute Information:\n",
    "\n",
    "1) id: unique identifier\n",
    "\n",
    "2) gender: \"Male\", \"Female\" or \"Other\"\n",
    "\n",
    "3) age: age of the patient\n",
    "\n",
    "4) hypertension: 0 if the patient doesn't have hypertension, 1 if the patient has hypertension\n",
    "\n",
    "5) heart_disease: 0 if the patient doesn't have any heart diseases, 1 if the patient has a heart disease\n",
    "\n",
    "6) ever_married: \"No\" or \"Yes\"\n",
    "\n",
    "7) work_type: \"children\", \"Govt_jov\", \"Never_worked\", \"Private\" or \"Self-employed\"\n",
    "\n",
    "8) Residence_type: \"Rural\" or \"Urban\"\n",
    "\n",
    "9) avg_glucose_level: average glucose level in blood\n",
    "\n",
    "10) bmi: body mass index\n",
    "\n",
    "11) smoking_status: \"formerly smoked\", \"never smoked\", \"smokes\" or \"Unknown\"*\n",
    "\n",
    "12) stroke: 1 if the patient had a stroke or 0 if not\n",
    "\n",
    "*Note: \"Unknown\" in smoking_status means that the information is unavailable for this patient"
   ]
  },
  {
   "cell_type": "code",
   "execution_count": 1,
   "id": "887f689c",
   "metadata": {},
   "outputs": [],
   "source": [
    "# Importing necessary libraries\n",
    "import pandas as pd\n",
    "import numpy as np\n",
    "import matplotlib.pyplot as plt\n",
    "import seaborn as sns\n",
    "import warnings\n",
    "warnings.filterwarnings('ignore')"
   ]
  },
  {
   "cell_type": "markdown",
   "id": "1e2f4ff1",
   "metadata": {},
   "source": [
    "# 1. Data Collection"
   ]
  },
  {
   "cell_type": "code",
   "execution_count": 2,
   "id": "2c4e3a1f",
   "metadata": {},
   "outputs": [
    {
     "data": {
      "text/html": [
       "<div>\n",
       "<style scoped>\n",
       "    .dataframe tbody tr th:only-of-type {\n",
       "        vertical-align: middle;\n",
       "    }\n",
       "\n",
       "    .dataframe tbody tr th {\n",
       "        vertical-align: top;\n",
       "    }\n",
       "\n",
       "    .dataframe thead th {\n",
       "        text-align: right;\n",
       "    }\n",
       "</style>\n",
       "<table border=\"1\" class=\"dataframe\">\n",
       "  <thead>\n",
       "    <tr style=\"text-align: right;\">\n",
       "      <th></th>\n",
       "      <th>id</th>\n",
       "      <th>gender</th>\n",
       "      <th>age</th>\n",
       "      <th>hypertension</th>\n",
       "      <th>heart_disease</th>\n",
       "      <th>ever_married</th>\n",
       "      <th>work_type</th>\n",
       "      <th>Residence_type</th>\n",
       "      <th>avg_glucose_level</th>\n",
       "      <th>bmi</th>\n",
       "      <th>smoking_status</th>\n",
       "      <th>stroke</th>\n",
       "    </tr>\n",
       "  </thead>\n",
       "  <tbody>\n",
       "    <tr>\n",
       "      <th>0</th>\n",
       "      <td>9046</td>\n",
       "      <td>Male</td>\n",
       "      <td>67.0</td>\n",
       "      <td>0</td>\n",
       "      <td>1</td>\n",
       "      <td>Yes</td>\n",
       "      <td>Private</td>\n",
       "      <td>Urban</td>\n",
       "      <td>228.69</td>\n",
       "      <td>36.6</td>\n",
       "      <td>formerly smoked</td>\n",
       "      <td>1</td>\n",
       "    </tr>\n",
       "    <tr>\n",
       "      <th>1</th>\n",
       "      <td>51676</td>\n",
       "      <td>Female</td>\n",
       "      <td>61.0</td>\n",
       "      <td>0</td>\n",
       "      <td>0</td>\n",
       "      <td>Yes</td>\n",
       "      <td>Self-employed</td>\n",
       "      <td>Rural</td>\n",
       "      <td>202.21</td>\n",
       "      <td>NaN</td>\n",
       "      <td>never smoked</td>\n",
       "      <td>1</td>\n",
       "    </tr>\n",
       "    <tr>\n",
       "      <th>2</th>\n",
       "      <td>31112</td>\n",
       "      <td>Male</td>\n",
       "      <td>80.0</td>\n",
       "      <td>0</td>\n",
       "      <td>1</td>\n",
       "      <td>Yes</td>\n",
       "      <td>Private</td>\n",
       "      <td>Rural</td>\n",
       "      <td>105.92</td>\n",
       "      <td>32.5</td>\n",
       "      <td>never smoked</td>\n",
       "      <td>1</td>\n",
       "    </tr>\n",
       "    <tr>\n",
       "      <th>3</th>\n",
       "      <td>60182</td>\n",
       "      <td>Female</td>\n",
       "      <td>49.0</td>\n",
       "      <td>0</td>\n",
       "      <td>0</td>\n",
       "      <td>Yes</td>\n",
       "      <td>Private</td>\n",
       "      <td>Urban</td>\n",
       "      <td>171.23</td>\n",
       "      <td>34.4</td>\n",
       "      <td>smokes</td>\n",
       "      <td>1</td>\n",
       "    </tr>\n",
       "    <tr>\n",
       "      <th>4</th>\n",
       "      <td>1665</td>\n",
       "      <td>Female</td>\n",
       "      <td>79.0</td>\n",
       "      <td>1</td>\n",
       "      <td>0</td>\n",
       "      <td>Yes</td>\n",
       "      <td>Self-employed</td>\n",
       "      <td>Rural</td>\n",
       "      <td>174.12</td>\n",
       "      <td>24.0</td>\n",
       "      <td>never smoked</td>\n",
       "      <td>1</td>\n",
       "    </tr>\n",
       "  </tbody>\n",
       "</table>\n",
       "</div>"
      ],
      "text/plain": [
       "      id  gender   age  hypertension  heart_disease ever_married  \\\n",
       "0   9046    Male  67.0             0              1          Yes   \n",
       "1  51676  Female  61.0             0              0          Yes   \n",
       "2  31112    Male  80.0             0              1          Yes   \n",
       "3  60182  Female  49.0             0              0          Yes   \n",
       "4   1665  Female  79.0             1              0          Yes   \n",
       "\n",
       "       work_type Residence_type  avg_glucose_level   bmi   smoking_status  \\\n",
       "0        Private          Urban             228.69  36.6  formerly smoked   \n",
       "1  Self-employed          Rural             202.21   NaN     never smoked   \n",
       "2        Private          Rural             105.92  32.5     never smoked   \n",
       "3        Private          Urban             171.23  34.4           smokes   \n",
       "4  Self-employed          Rural             174.12  24.0     never smoked   \n",
       "\n",
       "   stroke  \n",
       "0       1  \n",
       "1       1  \n",
       "2       1  \n",
       "3       1  \n",
       "4       1  "
      ]
     },
     "execution_count": 2,
     "metadata": {},
     "output_type": "execute_result"
    }
   ],
   "source": [
    "# Loading the dataset\n",
    "data = pd.read_csv(\"healthcare-dataset-stroke-data.csv\")\n",
    "data.head()"
   ]
  },
  {
   "cell_type": "code",
   "execution_count": 3,
   "id": "04be9841",
   "metadata": {},
   "outputs": [
    {
     "data": {
      "text/plain": [
       "(5110, 12)"
      ]
     },
     "execution_count": 3,
     "metadata": {},
     "output_type": "execute_result"
    }
   ],
   "source": [
    "data.shape"
   ]
  },
  {
   "cell_type": "code",
   "execution_count": 4,
   "id": "df78e9fa",
   "metadata": {},
   "outputs": [
    {
     "name": "stdout",
     "output_type": "stream",
     "text": [
      "<class 'pandas.core.frame.DataFrame'>\n",
      "RangeIndex: 5110 entries, 0 to 5109\n",
      "Data columns (total 12 columns):\n",
      " #   Column             Non-Null Count  Dtype  \n",
      "---  ------             --------------  -----  \n",
      " 0   id                 5110 non-null   int64  \n",
      " 1   gender             5110 non-null   object \n",
      " 2   age                5110 non-null   float64\n",
      " 3   hypertension       5110 non-null   int64  \n",
      " 4   heart_disease      5110 non-null   int64  \n",
      " 5   ever_married       5110 non-null   object \n",
      " 6   work_type          5110 non-null   object \n",
      " 7   Residence_type     5110 non-null   object \n",
      " 8   avg_glucose_level  5110 non-null   float64\n",
      " 9   bmi                4909 non-null   float64\n",
      " 10  smoking_status     5110 non-null   object \n",
      " 11  stroke             5110 non-null   int64  \n",
      "dtypes: float64(3), int64(4), object(5)\n",
      "memory usage: 479.2+ KB\n"
     ]
    }
   ],
   "source": [
    "data.info()"
   ]
  },
  {
   "cell_type": "code",
   "execution_count": 5,
   "id": "be4eddce",
   "metadata": {},
   "outputs": [
    {
     "data": {
      "text/html": [
       "<div>\n",
       "<style scoped>\n",
       "    .dataframe tbody tr th:only-of-type {\n",
       "        vertical-align: middle;\n",
       "    }\n",
       "\n",
       "    .dataframe tbody tr th {\n",
       "        vertical-align: top;\n",
       "    }\n",
       "\n",
       "    .dataframe thead th {\n",
       "        text-align: right;\n",
       "    }\n",
       "</style>\n",
       "<table border=\"1\" class=\"dataframe\">\n",
       "  <thead>\n",
       "    <tr style=\"text-align: right;\">\n",
       "      <th></th>\n",
       "      <th>id</th>\n",
       "      <th>age</th>\n",
       "      <th>hypertension</th>\n",
       "      <th>heart_disease</th>\n",
       "      <th>avg_glucose_level</th>\n",
       "      <th>bmi</th>\n",
       "      <th>stroke</th>\n",
       "    </tr>\n",
       "  </thead>\n",
       "  <tbody>\n",
       "    <tr>\n",
       "      <th>count</th>\n",
       "      <td>5110.000000</td>\n",
       "      <td>5110.000000</td>\n",
       "      <td>5110.000000</td>\n",
       "      <td>5110.000000</td>\n",
       "      <td>5110.000000</td>\n",
       "      <td>4909.000000</td>\n",
       "      <td>5110.000000</td>\n",
       "    </tr>\n",
       "    <tr>\n",
       "      <th>mean</th>\n",
       "      <td>36517.829354</td>\n",
       "      <td>43.226614</td>\n",
       "      <td>0.097456</td>\n",
       "      <td>0.054012</td>\n",
       "      <td>106.147677</td>\n",
       "      <td>28.893237</td>\n",
       "      <td>0.048728</td>\n",
       "    </tr>\n",
       "    <tr>\n",
       "      <th>std</th>\n",
       "      <td>21161.721625</td>\n",
       "      <td>22.612647</td>\n",
       "      <td>0.296607</td>\n",
       "      <td>0.226063</td>\n",
       "      <td>45.283560</td>\n",
       "      <td>7.854067</td>\n",
       "      <td>0.215320</td>\n",
       "    </tr>\n",
       "    <tr>\n",
       "      <th>min</th>\n",
       "      <td>67.000000</td>\n",
       "      <td>0.080000</td>\n",
       "      <td>0.000000</td>\n",
       "      <td>0.000000</td>\n",
       "      <td>55.120000</td>\n",
       "      <td>10.300000</td>\n",
       "      <td>0.000000</td>\n",
       "    </tr>\n",
       "    <tr>\n",
       "      <th>25%</th>\n",
       "      <td>17741.250000</td>\n",
       "      <td>25.000000</td>\n",
       "      <td>0.000000</td>\n",
       "      <td>0.000000</td>\n",
       "      <td>77.245000</td>\n",
       "      <td>23.500000</td>\n",
       "      <td>0.000000</td>\n",
       "    </tr>\n",
       "    <tr>\n",
       "      <th>50%</th>\n",
       "      <td>36932.000000</td>\n",
       "      <td>45.000000</td>\n",
       "      <td>0.000000</td>\n",
       "      <td>0.000000</td>\n",
       "      <td>91.885000</td>\n",
       "      <td>28.100000</td>\n",
       "      <td>0.000000</td>\n",
       "    </tr>\n",
       "    <tr>\n",
       "      <th>75%</th>\n",
       "      <td>54682.000000</td>\n",
       "      <td>61.000000</td>\n",
       "      <td>0.000000</td>\n",
       "      <td>0.000000</td>\n",
       "      <td>114.090000</td>\n",
       "      <td>33.100000</td>\n",
       "      <td>0.000000</td>\n",
       "    </tr>\n",
       "    <tr>\n",
       "      <th>max</th>\n",
       "      <td>72940.000000</td>\n",
       "      <td>82.000000</td>\n",
       "      <td>1.000000</td>\n",
       "      <td>1.000000</td>\n",
       "      <td>271.740000</td>\n",
       "      <td>97.600000</td>\n",
       "      <td>1.000000</td>\n",
       "    </tr>\n",
       "  </tbody>\n",
       "</table>\n",
       "</div>"
      ],
      "text/plain": [
       "                 id          age  hypertension  heart_disease  \\\n",
       "count   5110.000000  5110.000000   5110.000000    5110.000000   \n",
       "mean   36517.829354    43.226614      0.097456       0.054012   \n",
       "std    21161.721625    22.612647      0.296607       0.226063   \n",
       "min       67.000000     0.080000      0.000000       0.000000   \n",
       "25%    17741.250000    25.000000      0.000000       0.000000   \n",
       "50%    36932.000000    45.000000      0.000000       0.000000   \n",
       "75%    54682.000000    61.000000      0.000000       0.000000   \n",
       "max    72940.000000    82.000000      1.000000       1.000000   \n",
       "\n",
       "       avg_glucose_level          bmi       stroke  \n",
       "count        5110.000000  4909.000000  5110.000000  \n",
       "mean          106.147677    28.893237     0.048728  \n",
       "std            45.283560     7.854067     0.215320  \n",
       "min            55.120000    10.300000     0.000000  \n",
       "25%            77.245000    23.500000     0.000000  \n",
       "50%            91.885000    28.100000     0.000000  \n",
       "75%           114.090000    33.100000     0.000000  \n",
       "max           271.740000    97.600000     1.000000  "
      ]
     },
     "execution_count": 5,
     "metadata": {},
     "output_type": "execute_result"
    }
   ],
   "source": [
    "data.describe()"
   ]
  },
  {
   "cell_type": "code",
   "execution_count": 6,
   "id": "c9f02e20",
   "metadata": {},
   "outputs": [],
   "source": [
    "# ID is an unique identifier so we can drop that column\n",
    "data.drop(['id'],axis=1,inplace=True)"
   ]
  },
  {
   "cell_type": "code",
   "execution_count": 7,
   "id": "ad11a039",
   "metadata": {},
   "outputs": [
    {
     "data": {
      "text/html": [
       "<div>\n",
       "<style scoped>\n",
       "    .dataframe tbody tr th:only-of-type {\n",
       "        vertical-align: middle;\n",
       "    }\n",
       "\n",
       "    .dataframe tbody tr th {\n",
       "        vertical-align: top;\n",
       "    }\n",
       "\n",
       "    .dataframe thead th {\n",
       "        text-align: right;\n",
       "    }\n",
       "</style>\n",
       "<table border=\"1\" class=\"dataframe\">\n",
       "  <thead>\n",
       "    <tr style=\"text-align: right;\">\n",
       "      <th></th>\n",
       "      <th>gender</th>\n",
       "      <th>age</th>\n",
       "      <th>hypertension</th>\n",
       "      <th>heart_disease</th>\n",
       "      <th>ever_married</th>\n",
       "      <th>work_type</th>\n",
       "      <th>Residence_type</th>\n",
       "      <th>avg_glucose_level</th>\n",
       "      <th>bmi</th>\n",
       "      <th>smoking_status</th>\n",
       "      <th>stroke</th>\n",
       "    </tr>\n",
       "  </thead>\n",
       "  <tbody>\n",
       "    <tr>\n",
       "      <th>0</th>\n",
       "      <td>Male</td>\n",
       "      <td>67.0</td>\n",
       "      <td>0</td>\n",
       "      <td>1</td>\n",
       "      <td>Yes</td>\n",
       "      <td>Private</td>\n",
       "      <td>Urban</td>\n",
       "      <td>228.69</td>\n",
       "      <td>36.6</td>\n",
       "      <td>formerly smoked</td>\n",
       "      <td>1</td>\n",
       "    </tr>\n",
       "    <tr>\n",
       "      <th>1</th>\n",
       "      <td>Female</td>\n",
       "      <td>61.0</td>\n",
       "      <td>0</td>\n",
       "      <td>0</td>\n",
       "      <td>Yes</td>\n",
       "      <td>Self-employed</td>\n",
       "      <td>Rural</td>\n",
       "      <td>202.21</td>\n",
       "      <td>NaN</td>\n",
       "      <td>never smoked</td>\n",
       "      <td>1</td>\n",
       "    </tr>\n",
       "    <tr>\n",
       "      <th>2</th>\n",
       "      <td>Male</td>\n",
       "      <td>80.0</td>\n",
       "      <td>0</td>\n",
       "      <td>1</td>\n",
       "      <td>Yes</td>\n",
       "      <td>Private</td>\n",
       "      <td>Rural</td>\n",
       "      <td>105.92</td>\n",
       "      <td>32.5</td>\n",
       "      <td>never smoked</td>\n",
       "      <td>1</td>\n",
       "    </tr>\n",
       "    <tr>\n",
       "      <th>3</th>\n",
       "      <td>Female</td>\n",
       "      <td>49.0</td>\n",
       "      <td>0</td>\n",
       "      <td>0</td>\n",
       "      <td>Yes</td>\n",
       "      <td>Private</td>\n",
       "      <td>Urban</td>\n",
       "      <td>171.23</td>\n",
       "      <td>34.4</td>\n",
       "      <td>smokes</td>\n",
       "      <td>1</td>\n",
       "    </tr>\n",
       "    <tr>\n",
       "      <th>4</th>\n",
       "      <td>Female</td>\n",
       "      <td>79.0</td>\n",
       "      <td>1</td>\n",
       "      <td>0</td>\n",
       "      <td>Yes</td>\n",
       "      <td>Self-employed</td>\n",
       "      <td>Rural</td>\n",
       "      <td>174.12</td>\n",
       "      <td>24.0</td>\n",
       "      <td>never smoked</td>\n",
       "      <td>1</td>\n",
       "    </tr>\n",
       "  </tbody>\n",
       "</table>\n",
       "</div>"
      ],
      "text/plain": [
       "   gender   age  hypertension  heart_disease ever_married      work_type  \\\n",
       "0    Male  67.0             0              1          Yes        Private   \n",
       "1  Female  61.0             0              0          Yes  Self-employed   \n",
       "2    Male  80.0             0              1          Yes        Private   \n",
       "3  Female  49.0             0              0          Yes        Private   \n",
       "4  Female  79.0             1              0          Yes  Self-employed   \n",
       "\n",
       "  Residence_type  avg_glucose_level   bmi   smoking_status  stroke  \n",
       "0          Urban             228.69  36.6  formerly smoked       1  \n",
       "1          Rural             202.21   NaN     never smoked       1  \n",
       "2          Rural             105.92  32.5     never smoked       1  \n",
       "3          Urban             171.23  34.4           smokes       1  \n",
       "4          Rural             174.12  24.0     never smoked       1  "
      ]
     },
     "execution_count": 7,
     "metadata": {},
     "output_type": "execute_result"
    }
   ],
   "source": [
    "data.head()"
   ]
  },
  {
   "cell_type": "markdown",
   "id": "0af71d1e",
   "metadata": {},
   "source": [
    "# 2. Pre-processing\n",
    "\n",
    "2.1 Missing value handling"
   ]
  },
  {
   "cell_type": "code",
   "execution_count": 8,
   "id": "04e95477",
   "metadata": {},
   "outputs": [
    {
     "data": {
      "text/plain": [
       "gender                 0\n",
       "age                    0\n",
       "hypertension           0\n",
       "heart_disease          0\n",
       "ever_married           0\n",
       "work_type              0\n",
       "Residence_type         0\n",
       "avg_glucose_level      0\n",
       "bmi                  201\n",
       "smoking_status         0\n",
       "stroke                 0\n",
       "dtype: int64"
      ]
     },
     "execution_count": 8,
     "metadata": {},
     "output_type": "execute_result"
    }
   ],
   "source": [
    "# Checking for null values\n",
    "data.isna().sum()"
   ]
  },
  {
   "cell_type": "markdown",
   "id": "ca0c43bd",
   "metadata": {},
   "source": [
    "BMI column contains null values"
   ]
  },
  {
   "cell_type": "code",
   "execution_count": 9,
   "id": "9bb755f6",
   "metadata": {},
   "outputs": [
    {
     "data": {
      "text/plain": [
       "<AxesSubplot:xlabel='bmi', ylabel='Count'>"
      ]
     },
     "execution_count": 9,
     "metadata": {},
     "output_type": "execute_result"
    },
    {
     "data": {
      "image/png": "[encoded data removed]",
      "text/plain": [
       "<Figure size 432x288 with 1 Axes>"
      ]
     },
     "metadata": {
      "needs_background": "light"
     },
     "output_type": "display_data"
    }
   ],
   "source": [
    "# Handling null values in bmi column\n",
    "sns.histplot(data['bmi'],kde=True)"
   ]
  },
  {
   "cell_type": "code",
   "execution_count": 10,
   "id": "627a05f6",
   "metadata": {},
   "outputs": [],
   "source": [
    "# We can fill the null values with median\n",
    "data['bmi']=data['bmi'].fillna(data['bmi'].median())"
   ]
  },
  {
   "cell_type": "code",
   "execution_count": 11,
   "id": "d928b724",
   "metadata": {},
   "outputs": [
    {
     "data": {
      "text/plain": [
       "gender               0\n",
       "age                  0\n",
       "hypertension         0\n",
       "heart_disease        0\n",
       "ever_married         0\n",
       "work_type            0\n",
       "Residence_type       0\n",
       "avg_glucose_level    0\n",
       "bmi                  0\n",
       "smoking_status       0\n",
       "stroke               0\n",
       "dtype: int64"
      ]
     },
     "execution_count": 11,
     "metadata": {},
     "output_type": "execute_result"
    }
   ],
   "source": [
    "data.isna().sum()"
   ]
  },
  {
   "cell_type": "markdown",
   "id": "11524fe4",
   "metadata": {},
   "source": [
    "2.2 Outlier detection and handling"
   ]
  },
  {
   "cell_type": "code",
   "execution_count": 12,
   "id": "bb80f125",
   "metadata": {},
   "outputs": [
    {
     "data": {
      "text/plain": [
       "<AxesSubplot:>"
      ]
     },
     "execution_count": 12,
     "metadata": {},
     "output_type": "execute_result"
    },
    {
     "data": {
      "image/png": "[encoded data removed]",
      "text/plain": [
       "<Figure size 720x360 with 1 Axes>"
      ]
     },
     "metadata": {
      "needs_background": "light"
     },
     "output_type": "display_data"
    }
   ],
   "source": [
    "plt.figure(figsize=(10,5))\n",
    "sns.boxplot(data=data)"
   ]
  },
  {
   "cell_type": "markdown",
   "id": "f375636f",
   "metadata": {},
   "source": [
    "There are outliers both in avg glucose level and bmi"
   ]
  },
  {
   "cell_type": "code",
   "execution_count": 13,
   "id": "782a5393",
   "metadata": {},
   "outputs": [
    {
     "data": {
      "text/plain": [
       "<AxesSubplot:xlabel='avg_glucose_level'>"
      ]
     },
     "execution_count": 13,
     "metadata": {},
     "output_type": "execute_result"
    },
    {
     "data": {
      "image/png": "[encoded data removed]",
      "text/plain": [
       "<Figure size 432x288 with 1 Axes>"
      ]
     },
     "metadata": {
      "needs_background": "light"
     },
     "output_type": "display_data"
    }
   ],
   "source": [
    "# Detecting and Handling outliers in avg_glucose_level\n",
    "sns.boxplot(x='avg_glucose_level',data=data)"
   ]
  },
  {
   "cell_type": "code",
   "execution_count": 14,
   "id": "d377f7d6",
   "metadata": {},
   "outputs": [
    {
     "data": {
      "text/plain": [
       "(77.245, 91.88499999999999, 114.09)"
      ]
     },
     "execution_count": 14,
     "metadata": {},
     "output_type": "execute_result"
    }
   ],
   "source": [
    "# Detecting and Handling outliers in avg_glucose_level\n",
    "q1,q2,q3 = np.percentile(data['avg_glucose_level'],[25,50,75])\n",
    "q1,q2,q3"
   ]
  },
  {
   "cell_type": "code",
   "execution_count": 15,
   "id": "a53592a5",
   "metadata": {},
   "outputs": [
    {
     "data": {
      "text/plain": [
       "36.845"
      ]
     },
     "execution_count": 15,
     "metadata": {},
     "output_type": "execute_result"
    }
   ],
   "source": [
    "# Finding the Inter Quartile Range\n",
    "IQR = q3-q1\n",
    "IQR"
   ]
  },
  {
   "cell_type": "code",
   "execution_count": 16,
   "id": "71f2be9e",
   "metadata": {},
   "outputs": [
    {
     "name": "stdout",
     "output_type": "stream",
     "text": [
      "lower =  21.977500000000006\n",
      "upper =  169.35750000000002\n"
     ]
    }
   ],
   "source": [
    "lower_limit = q1-(1.5*IQR)\n",
    "upper_limit = q3+(1.5*IQR)\n",
    "print(\"lower = \" ,lower_limit)\n",
    "print(\"upper = \" ,upper_limit)"
   ]
  },
  {
   "cell_type": "code",
   "execution_count": 17,
   "id": "2083bea7",
   "metadata": {},
   "outputs": [
    {
     "data": {
      "text/plain": [
       "[228.69,\n",
       " 202.21,\n",
       " 171.23,\n",
       " 174.12,\n",
       " 186.21,\n",
       " 219.84,\n",
       " 214.09,\n",
       " 191.61,\n",
       " 221.29,\n",
       " 217.08,\n",
       " 193.94,\n",
       " 233.29,\n",
       " 228.7,\n",
       " 208.3,\n",
       " 189.84,\n",
       " 195.23,\n",
       " 211.78,\n",
       " 212.08,\n",
       " 196.92,\n",
       " 252.72,\n",
       " 219.72,\n",
       " 213.03,\n",
       " 243.58,\n",
       " 197.54,\n",
       " 196.71,\n",
       " 237.75,\n",
       " 194.99,\n",
       " 180.93,\n",
       " 185.17,\n",
       " 221.58,\n",
       " 179.12,\n",
       " 228.56,\n",
       " 240.09,\n",
       " 226.98,\n",
       " 235.63,\n",
       " 240.59,\n",
       " 190.32,\n",
       " 231.61,\n",
       " 191.82,\n",
       " 224.1,\n",
       " 216.94,\n",
       " 259.63,\n",
       " 249.31,\n",
       " 219.91,\n",
       " 200.59,\n",
       " 190.14,\n",
       " 182.99,\n",
       " 206.09,\n",
       " 263.32,\n",
       " 207.28,\n",
       " 194.37,\n",
       " 199.2,\n",
       " 221.79,\n",
       " 239.07,\n",
       " 169.67,\n",
       " 223.83,\n",
       " 231.56,\n",
       " 221.89,\n",
       " 195.71,\n",
       " 203.87,\n",
       " 185.49,\n",
       " 213.22,\n",
       " 215.94,\n",
       " 209.86,\n",
       " 205.77,\n",
       " 271.74,\n",
       " 200.62,\n",
       " 242.52,\n",
       " 175.29,\n",
       " 208.65,\n",
       " 205.33,\n",
       " 210.4,\n",
       " 199.86,\n",
       " 219.73,\n",
       " 250.89,\n",
       " 205.35,\n",
       " 216.58,\n",
       " 184.4,\n",
       " 199.84,\n",
       " 218.46,\n",
       " 211.06,\n",
       " 197.28,\n",
       " 233.94,\n",
       " 247.51,\n",
       " 210.95,\n",
       " 243.53,\n",
       " 205.84,\n",
       " 198.21,\n",
       " 206.72,\n",
       " 214.45,\n",
       " 190.7,\n",
       " 203.04,\n",
       " 242.3,\n",
       " 220.49,\n",
       " 218.46,\n",
       " 216.7,\n",
       " 234.58,\n",
       " 235.85,\n",
       " 243.5,\n",
       " 182.2,\n",
       " 229.92,\n",
       " 215.6,\n",
       " 239.64,\n",
       " 200.28,\n",
       " 205.23,\n",
       " 209.58,\n",
       " 210.78,\n",
       " 251.6,\n",
       " 213.37,\n",
       " 223.36,\n",
       " 178.29,\n",
       " 203.81,\n",
       " 205.26,\n",
       " 211.03,\n",
       " 225.47,\n",
       " 180.63,\n",
       " 227.1,\n",
       " 201.76,\n",
       " 170.05,\n",
       " 217.3,\n",
       " 196.01,\n",
       " 184.15,\n",
       " 198.69,\n",
       " 186.17,\n",
       " 183.45,\n",
       " 210.48,\n",
       " 193.83,\n",
       " 183.34,\n",
       " 247.69,\n",
       " 191.47,\n",
       " 239.82,\n",
       " 189.57,\n",
       " 207.58,\n",
       " 182.86,\n",
       " 215.64,\n",
       " 196.36,\n",
       " 188.11,\n",
       " 205.5,\n",
       " 204.86,\n",
       " 228.08,\n",
       " 219.53,\n",
       " 219.97,\n",
       " 214.05,\n",
       " 200.49,\n",
       " 240.71,\n",
       " 197.1,\n",
       " 194.62,\n",
       " 222.21,\n",
       " 250.2,\n",
       " 173.43,\n",
       " 184.25,\n",
       " 254.6,\n",
       " 212.01,\n",
       " 186.45,\n",
       " 189.49,\n",
       " 186.32,\n",
       " 226.7,\n",
       " 183.1,\n",
       " 194.04,\n",
       " 237.15,\n",
       " 231.19,\n",
       " 207.32,\n",
       " 207.64,\n",
       " 236.84,\n",
       " 204.63,\n",
       " 232.89,\n",
       " 195.03,\n",
       " 170.95,\n",
       " 227.91,\n",
       " 204.5,\n",
       " 206.25,\n",
       " 254.63,\n",
       " 246.34,\n",
       " 195.16,\n",
       " 223.68,\n",
       " 229.2,\n",
       " 193.22,\n",
       " 204.57,\n",
       " 251.46,\n",
       " 220.52,\n",
       " 195.04,\n",
       " 218.65,\n",
       " 211.49,\n",
       " 224.71,\n",
       " 226.11,\n",
       " 210.94,\n",
       " 230.68,\n",
       " 198.02,\n",
       " 204.17,\n",
       " 267.76,\n",
       " 217.71,\n",
       " 180.76,\n",
       " 239.52,\n",
       " 229.86,\n",
       " 210.96,\n",
       " 195.25,\n",
       " 217.39,\n",
       " 201.25,\n",
       " 197.79,\n",
       " 214.77,\n",
       " 181.23,\n",
       " 189.45,\n",
       " 206.4,\n",
       " 178.76,\n",
       " 197.58,\n",
       " 199.96,\n",
       " 205.77,\n",
       " 237.21,\n",
       " 246.53,\n",
       " 206.33,\n",
       " 206.98,\n",
       " 227.28,\n",
       " 228.7,\n",
       " 169.97,\n",
       " 244.28,\n",
       " 251.99,\n",
       " 191.79,\n",
       " 216.88,\n",
       " 222.29,\n",
       " 213.11,\n",
       " 227.51,\n",
       " 201.01,\n",
       " 210.0,\n",
       " 237.58,\n",
       " 207.45,\n",
       " 226.93,\n",
       " 253.16,\n",
       " 238.53,\n",
       " 207.79,\n",
       " 196.2,\n",
       " 231.76,\n",
       " 216.92,\n",
       " 194.98,\n",
       " 218.54,\n",
       " 183.0,\n",
       " 237.17,\n",
       " 178.33,\n",
       " 197.09,\n",
       " 242.84,\n",
       " 202.66,\n",
       " 216.9,\n",
       " 210.0,\n",
       " 208.05,\n",
       " 222.6,\n",
       " 199.14,\n",
       " 191.48,\n",
       " 200.16,\n",
       " 190.4,\n",
       " 215.9,\n",
       " 233.52,\n",
       " 213.54,\n",
       " 188.69,\n",
       " 219.5,\n",
       " 217.66,\n",
       " 227.16,\n",
       " 209.9,\n",
       " 176.48,\n",
       " 211.88,\n",
       " 225.6,\n",
       " 210.23,\n",
       " 234.82,\n",
       " 230.59,\n",
       " 224.63,\n",
       " 185.71,\n",
       " 208.17,\n",
       " 185.31,\n",
       " 203.04,\n",
       " 187.87,\n",
       " 213.87,\n",
       " 222.85,\n",
       " 198.36,\n",
       " 196.25,\n",
       " 194.53,\n",
       " 204.05,\n",
       " 199.18,\n",
       " 209.26,\n",
       " 217.11,\n",
       " 222.46,\n",
       " 187.52,\n",
       " 237.74,\n",
       " 223.35,\n",
       " 201.07,\n",
       " 208.06,\n",
       " 186.95,\n",
       " 198.24,\n",
       " 229.21,\n",
       " 209.06,\n",
       " 228.42,\n",
       " 212.97,\n",
       " 202.05,\n",
       " 206.25,\n",
       " 231.69,\n",
       " 219.96,\n",
       " 197.69,\n",
       " 199.88,\n",
       " 170.22,\n",
       " 208.78,\n",
       " 222.29,\n",
       " 220.36,\n",
       " 187.88,\n",
       " 191.66,\n",
       " 217.75,\n",
       " 226.88,\n",
       " 186.4,\n",
       " 169.49,\n",
       " 203.81,\n",
       " 170.76,\n",
       " 189.44,\n",
       " 249.29,\n",
       " 211.35,\n",
       " 206.59,\n",
       " 196.33,\n",
       " 242.94,\n",
       " 226.75,\n",
       " 185.0,\n",
       " 199.83,\n",
       " 227.81,\n",
       " 240.81,\n",
       " 239.28,\n",
       " 231.5,\n",
       " 192.37,\n",
       " 220.47,\n",
       " 196.91,\n",
       " 180.8,\n",
       " 247.48,\n",
       " 216.0,\n",
       " 219.39,\n",
       " 220.47,\n",
       " 173.96,\n",
       " 198.33,\n",
       " 191.33,\n",
       " 206.52,\n",
       " 216.96,\n",
       " 170.93,\n",
       " 232.81,\n",
       " 207.95,\n",
       " 229.58,\n",
       " 187.22,\n",
       " 227.04,\n",
       " 214.42,\n",
       " 233.71,\n",
       " 216.4,\n",
       " 266.59,\n",
       " 227.94,\n",
       " 205.0,\n",
       " 203.44,\n",
       " 243.73,\n",
       " 176.25,\n",
       " 200.28,\n",
       " 221.43,\n",
       " 213.38,\n",
       " 192.16,\n",
       " 215.72,\n",
       " 173.14,\n",
       " 202.57,\n",
       " 209.5,\n",
       " 203.16,\n",
       " 201.45,\n",
       " 206.15,\n",
       " 196.61,\n",
       " 219.92,\n",
       " 231.95,\n",
       " 216.38,\n",
       " 213.33,\n",
       " 172.33,\n",
       " 243.59,\n",
       " 169.43,\n",
       " 183.87,\n",
       " 227.98,\n",
       " 208.2,\n",
       " 199.42,\n",
       " 190.13,\n",
       " 235.54,\n",
       " 178.89,\n",
       " 227.74,\n",
       " 213.8,\n",
       " 250.8,\n",
       " 217.84,\n",
       " 217.0,\n",
       " 217.4,\n",
       " 190.92,\n",
       " 182.9,\n",
       " 255.17,\n",
       " 217.55,\n",
       " 227.96,\n",
       " 231.71,\n",
       " 196.81,\n",
       " 222.66,\n",
       " 223.58,\n",
       " 198.79,\n",
       " 192.39,\n",
       " 233.3,\n",
       " 201.38,\n",
       " 236.14,\n",
       " 193.81,\n",
       " 239.95,\n",
       " 170.88,\n",
       " 202.21,\n",
       " 181.3,\n",
       " 198.79,\n",
       " 202.55,\n",
       " 232.12,\n",
       " 203.57,\n",
       " 230.78,\n",
       " 204.98,\n",
       " 227.89,\n",
       " 216.71,\n",
       " 202.67,\n",
       " 221.8,\n",
       " 202.38,\n",
       " 215.81,\n",
       " 220.24,\n",
       " 195.61,\n",
       " 267.61,\n",
       " 176.71,\n",
       " 207.62,\n",
       " 201.58,\n",
       " 231.43,\n",
       " 220.26,\n",
       " 211.12,\n",
       " 177.91,\n",
       " 215.33,\n",
       " 212.02,\n",
       " 228.2,\n",
       " 260.85,\n",
       " 223.9,\n",
       " 169.74,\n",
       " 207.96,\n",
       " 176.78,\n",
       " 205.01,\n",
       " 191.78,\n",
       " 214.43,\n",
       " 220.64,\n",
       " 204.77,\n",
       " 248.37,\n",
       " 194.53,\n",
       " 228.92,\n",
       " 227.68,\n",
       " 226.73,\n",
       " 219.17,\n",
       " 215.92,\n",
       " 198.12,\n",
       " 240.86,\n",
       " 263.56,\n",
       " 200.14,\n",
       " 235.45,\n",
       " 207.71,\n",
       " 228.05,\n",
       " 223.14,\n",
       " 174.43,\n",
       " 214.51,\n",
       " 231.31,\n",
       " 238.78,\n",
       " 233.59,\n",
       " 188.13,\n",
       " 205.97,\n",
       " 190.89,\n",
       " 193.87,\n",
       " 214.77,\n",
       " 189.88,\n",
       " 197.11,\n",
       " 192.47,\n",
       " 199.38,\n",
       " 202.98,\n",
       " 198.32,\n",
       " 226.38,\n",
       " 236.79,\n",
       " 219.82,\n",
       " 239.19,\n",
       " 206.62,\n",
       " 216.88,\n",
       " 204.92,\n",
       " 226.84,\n",
       " 234.35,\n",
       " 200.73,\n",
       " 202.51,\n",
       " 218.0,\n",
       " 209.15,\n",
       " 202.66,\n",
       " 196.5,\n",
       " 209.5,\n",
       " 219.81,\n",
       " 205.23,\n",
       " 234.27,\n",
       " 239.21,\n",
       " 196.08,\n",
       " 176.38,\n",
       " 175.74,\n",
       " 193.45,\n",
       " 180.45,\n",
       " 219.38,\n",
       " 173.9,\n",
       " 217.94,\n",
       " 216.64,\n",
       " 173.97,\n",
       " 208.85,\n",
       " 219.7,\n",
       " 208.05,\n",
       " 185.28,\n",
       " 198.3,\n",
       " 206.66,\n",
       " 200.68,\n",
       " 218.6,\n",
       " 223.26,\n",
       " 172.27,\n",
       " 221.83,\n",
       " 218.1,\n",
       " 200.46,\n",
       " 217.79,\n",
       " 233.47,\n",
       " 181.23,\n",
       " 200.98,\n",
       " 219.67,\n",
       " 207.6,\n",
       " 247.97,\n",
       " 231.15,\n",
       " 186.54,\n",
       " 221.06,\n",
       " 212.62,\n",
       " 217.74,\n",
       " 208.99,\n",
       " 197.36,\n",
       " 222.52,\n",
       " 232.64,\n",
       " 207.37,\n",
       " 201.96,\n",
       " 213.43,\n",
       " 248.24,\n",
       " 229.94,\n",
       " 202.06,\n",
       " 253.93,\n",
       " 194.75,\n",
       " 207.84,\n",
       " 228.26,\n",
       " 203.76,\n",
       " 205.78,\n",
       " 179.67,\n",
       " 230.74,\n",
       " 216.19,\n",
       " 200.66,\n",
       " 228.5,\n",
       " 232.29,\n",
       " 200.91,\n",
       " 236.04,\n",
       " 254.95,\n",
       " 196.58,\n",
       " 189.82,\n",
       " 193.61,\n",
       " 195.74,\n",
       " 221.24,\n",
       " 192.5,\n",
       " 212.92,\n",
       " 191.94,\n",
       " 247.87,\n",
       " 229.73,\n",
       " 261.67,\n",
       " 256.74,\n",
       " 221.08,\n",
       " 208.39,\n",
       " 227.23,\n",
       " 203.27,\n",
       " 234.5,\n",
       " 190.67,\n",
       " 197.06,\n",
       " 216.07,\n",
       " 179.14,\n",
       " 203.87,\n",
       " 235.06,\n",
       " 195.43,\n",
       " 200.25,\n",
       " 223.64,\n",
       " 199.78,\n",
       " 176.42,\n",
       " 244.3,\n",
       " 223.16,\n",
       " 226.28,\n",
       " 172.86,\n",
       " 213.92,\n",
       " 212.19,\n",
       " 200.8,\n",
       " 222.58,\n",
       " 206.53,\n",
       " 232.78,\n",
       " 187.47,\n",
       " 234.06,\n",
       " 242.62,\n",
       " 174.54,\n",
       " 231.54,\n",
       " 219.8,\n",
       " 187.99,\n",
       " 234.45,\n",
       " 240.69,\n",
       " 217.57,\n",
       " 234.51,\n",
       " 182.22,\n",
       " 214.73,\n",
       " 208.69,\n",
       " 231.72,\n",
       " 206.53,\n",
       " 193.8,\n",
       " 203.01,\n",
       " 177.56,\n",
       " 198.84,\n",
       " 243.52,\n",
       " 238.27,\n",
       " 208.31,\n",
       " 176.34,\n",
       " 211.83,\n",
       " 215.69,\n",
       " 267.6,\n",
       " 215.07,\n",
       " 225.35,\n",
       " 196.26,\n",
       " 182.52,\n",
       " 212.87,\n",
       " 183.43,\n",
       " 185.27,\n",
       " 206.49,\n",
       " 253.86,\n",
       " 203.36,\n",
       " 175.92,\n",
       " 191.15,\n",
       " 223.78,\n",
       " 211.58,\n",
       " 179.38,\n",
       " 193.88,\n",
       " 174.37]"
      ]
     },
     "execution_count": 17,
     "metadata": {},
     "output_type": "execute_result"
    }
   ],
   "source": [
    "outlier = []\n",
    "for i in data['avg_glucose_level']:\n",
    "    if ((i>upper_limit) or (i<lower_limit)):\n",
    "        outlier.append(i)\n",
    "outlier"
   ]
  },
  {
   "cell_type": "code",
   "execution_count": 18,
   "id": "cc36c7b0",
   "metadata": {},
   "outputs": [
    {
     "data": {
      "text/plain": [
       "<AxesSubplot:xlabel='bmi'>"
      ]
     },
     "execution_count": 18,
     "metadata": {},
     "output_type": "execute_result"
    },
    {
     "data": {
      "image/png": "[encoded data removed]",
      "text/plain": [
       "<Figure size 432x288 with 1 Axes>"
      ]
     },
     "metadata": {
      "needs_background": "light"
     },
     "output_type": "display_data"
    }
   ],
   "source": [
    "sns.boxplot(x='bmi',data=data)"
   ]
  },
  {
   "cell_type": "code",
   "execution_count": 19,
   "id": "6f410dc2",
   "metadata": {},
   "outputs": [
    {
     "data": {
      "text/plain": [
       "(23.8, 28.1, 32.8)"
      ]
     },
     "execution_count": 19,
     "metadata": {},
     "output_type": "execute_result"
    }
   ],
   "source": [
    "# Detecting and Handling outliers in avg_glucose_level\n",
    "q1,q2,q3 = np.percentile(data['bmi'],[25,50,75])\n",
    "q1,q2,q3"
   ]
  },
  {
   "cell_type": "code",
   "execution_count": 20,
   "id": "a221e2e2",
   "metadata": {},
   "outputs": [
    {
     "data": {
      "text/plain": [
       "8.999999999999996"
      ]
     },
     "execution_count": 20,
     "metadata": {},
     "output_type": "execute_result"
    }
   ],
   "source": [
    "# Finding the Inter Quartile Range\n",
    "IQR = q3-q1\n",
    "IQR"
   ]
  },
  {
   "cell_type": "code",
   "execution_count": 21,
   "id": "a1f2c2d1",
   "metadata": {},
   "outputs": [
    {
     "name": "stdout",
     "output_type": "stream",
     "text": [
      "lower =  10.300000000000006\n",
      "upper =  46.29999999999999\n"
     ]
    }
   ],
   "source": [
    "lower_limit = q1-(1.5*IQR)\n",
    "upper_limit = q3+(1.5*IQR)\n",
    "print(\"lower = \" ,lower_limit)\n",
    "print(\"upper = \" ,upper_limit)"
   ]
  },
  {
   "cell_type": "code",
   "execution_count": 22,
   "id": "f6bac3b9",
   "metadata": {},
   "outputs": [
    {
     "data": {
      "text/plain": [
       "[48.9,\n",
       " 47.5,\n",
       " 56.6,\n",
       " 50.1,\n",
       " 54.6,\n",
       " 60.9,\n",
       " 54.7,\n",
       " 48.2,\n",
       " 64.8,\n",
       " 47.3,\n",
       " 46.5,\n",
       " 46.6,\n",
       " 54.7,\n",
       " 49.8,\n",
       " 60.2,\n",
       " 51.0,\n",
       " 51.5,\n",
       " 71.9,\n",
       " 50.2,\n",
       " 47.8,\n",
       " 54.6,\n",
       " 55.7,\n",
       " 55.7,\n",
       " 57.5,\n",
       " 54.2,\n",
       " 52.3,\n",
       " 50.3,\n",
       " 78.0,\n",
       " 50.2,\n",
       " 53.4,\n",
       " 55.2,\n",
       " 48.4,\n",
       " 50.6,\n",
       " 49.5,\n",
       " 55.0,\n",
       " 54.8,\n",
       " 50.2,\n",
       " 47.5,\n",
       " 52.8,\n",
       " 66.8,\n",
       " 55.1,\n",
       " 48.5,\n",
       " 55.9,\n",
       " 57.3,\n",
       " 10.3,\n",
       " 49.8,\n",
       " 56.0,\n",
       " 51.8,\n",
       " 57.7,\n",
       " 48.9,\n",
       " 49.3,\n",
       " 49.8,\n",
       " 54.0,\n",
       " 56.1,\n",
       " 97.6,\n",
       " 53.9,\n",
       " 49.4,\n",
       " 48.5,\n",
       " 49.2,\n",
       " 48.7,\n",
       " 48.9,\n",
       " 53.8,\n",
       " 46.5,\n",
       " 48.8,\n",
       " 52.7,\n",
       " 52.8,\n",
       " 55.7,\n",
       " 53.5,\n",
       " 50.5,\n",
       " 51.9,\n",
       " 63.3,\n",
       " 52.8,\n",
       " 61.2,\n",
       " 48.0,\n",
       " 46.8,\n",
       " 50.1,\n",
       " 48.3,\n",
       " 58.1,\n",
       " 49.3,\n",
       " 50.4,\n",
       " 52.7,\n",
       " 48.3,\n",
       " 49.3,\n",
       " 51.9,\n",
       " 53.4,\n",
       " 50.3,\n",
       " 59.7,\n",
       " 47.4,\n",
       " 52.5,\n",
       " 52.9,\n",
       " 54.7,\n",
       " 61.6,\n",
       " 49.9,\n",
       " 53.8,\n",
       " 47.3,\n",
       " 54.3,\n",
       " 47.9,\n",
       " 55.0,\n",
       " 50.9,\n",
       " 50.6,\n",
       " 57.2,\n",
       " 64.4,\n",
       " 92.0,\n",
       " 50.8,\n",
       " 55.9,\n",
       " 57.9,\n",
       " 47.6,\n",
       " 55.7,\n",
       " 48.8,\n",
       " 57.2,\n",
       " 47.5,\n",
       " 46.4,\n",
       " 46.9,\n",
       " 50.2,\n",
       " 47.1,\n",
       " 48.1,\n",
       " 51.7,\n",
       " 60.9,\n",
       " 47.8,\n",
       " 47.6,\n",
       " 46.3,\n",
       " 54.1,\n",
       " 56.6,\n",
       " 49.5,\n",
       " 47.6,\n",
       " 46.9]"
      ]
     },
     "execution_count": 22,
     "metadata": {},
     "output_type": "execute_result"
    }
   ],
   "source": [
    "outlier = []\n",
    "for i in data['bmi']:\n",
    "    if ((i>upper_limit) or (i<lower_limit)):\n",
    "        outlier.append(i)\n",
    "outlier"
   ]
  },
  {
   "cell_type": "code",
   "execution_count": 23,
   "id": "3de40e7c",
   "metadata": {},
   "outputs": [],
   "source": [
    "# As it looks like we are having genuine cases, we could not drop the outliers in this case;\n",
    "# hence, we are performing Log Transformation.\n",
    "for col in ['avg_glucose_level','bmi']:\n",
    "    data[col]=np.log(data[col])"
   ]
  },
  {
   "cell_type": "code",
   "execution_count": 24,
   "id": "a2ce2fcb",
   "metadata": {},
   "outputs": [
    {
     "data": {
      "text/html": [
       "<div>\n",
       "<style scoped>\n",
       "    .dataframe tbody tr th:only-of-type {\n",
       "        vertical-align: middle;\n",
       "    }\n",
       "\n",
       "    .dataframe tbody tr th {\n",
       "        vertical-align: top;\n",
       "    }\n",
       "\n",
       "    .dataframe thead th {\n",
       "        text-align: right;\n",
       "    }\n",
       "</style>\n",
       "<table border=\"1\" class=\"dataframe\">\n",
       "  <thead>\n",
       "    <tr style=\"text-align: right;\">\n",
       "      <th></th>\n",
       "      <th>age</th>\n",
       "      <th>hypertension</th>\n",
       "      <th>heart_disease</th>\n",
       "      <th>avg_glucose_level</th>\n",
       "      <th>bmi</th>\n",
       "      <th>stroke</th>\n",
       "    </tr>\n",
       "  </thead>\n",
       "  <tbody>\n",
       "    <tr>\n",
       "      <th>count</th>\n",
       "      <td>5110.000000</td>\n",
       "      <td>5110.000000</td>\n",
       "      <td>5110.000000</td>\n",
       "      <td>5110.000000</td>\n",
       "      <td>5110.000000</td>\n",
       "      <td>5110.000000</td>\n",
       "    </tr>\n",
       "    <tr>\n",
       "      <th>mean</th>\n",
       "      <td>43.226614</td>\n",
       "      <td>0.097456</td>\n",
       "      <td>0.054012</td>\n",
       "      <td>4.592465</td>\n",
       "      <td>3.328712</td>\n",
       "      <td>0.048728</td>\n",
       "    </tr>\n",
       "    <tr>\n",
       "      <th>std</th>\n",
       "      <td>22.612647</td>\n",
       "      <td>0.296607</td>\n",
       "      <td>0.226063</td>\n",
       "      <td>0.361985</td>\n",
       "      <td>0.259801</td>\n",
       "      <td>0.215320</td>\n",
       "    </tr>\n",
       "    <tr>\n",
       "      <th>min</th>\n",
       "      <td>0.080000</td>\n",
       "      <td>0.000000</td>\n",
       "      <td>0.000000</td>\n",
       "      <td>4.009513</td>\n",
       "      <td>2.332144</td>\n",
       "      <td>0.000000</td>\n",
       "    </tr>\n",
       "    <tr>\n",
       "      <th>25%</th>\n",
       "      <td>25.000000</td>\n",
       "      <td>0.000000</td>\n",
       "      <td>0.000000</td>\n",
       "      <td>4.346982</td>\n",
       "      <td>3.169686</td>\n",
       "      <td>0.000000</td>\n",
       "    </tr>\n",
       "    <tr>\n",
       "      <th>50%</th>\n",
       "      <td>45.000000</td>\n",
       "      <td>0.000000</td>\n",
       "      <td>0.000000</td>\n",
       "      <td>4.520538</td>\n",
       "      <td>3.335770</td>\n",
       "      <td>0.000000</td>\n",
       "    </tr>\n",
       "    <tr>\n",
       "      <th>75%</th>\n",
       "      <td>61.000000</td>\n",
       "      <td>0.000000</td>\n",
       "      <td>0.000000</td>\n",
       "      <td>4.736988</td>\n",
       "      <td>3.490429</td>\n",
       "      <td>0.000000</td>\n",
       "    </tr>\n",
       "    <tr>\n",
       "      <th>max</th>\n",
       "      <td>82.000000</td>\n",
       "      <td>1.000000</td>\n",
       "      <td>1.000000</td>\n",
       "      <td>5.604846</td>\n",
       "      <td>4.580877</td>\n",
       "      <td>1.000000</td>\n",
       "    </tr>\n",
       "  </tbody>\n",
       "</table>\n",
       "</div>"
      ],
      "text/plain": [
       "               age  hypertension  heart_disease  avg_glucose_level  \\\n",
       "count  5110.000000   5110.000000    5110.000000        5110.000000   \n",
       "mean     43.226614      0.097456       0.054012           4.592465   \n",
       "std      22.612647      0.296607       0.226063           0.361985   \n",
       "min       0.080000      0.000000       0.000000           4.009513   \n",
       "25%      25.000000      0.000000       0.000000           4.346982   \n",
       "50%      45.000000      0.000000       0.000000           4.520538   \n",
       "75%      61.000000      0.000000       0.000000           4.736988   \n",
       "max      82.000000      1.000000       1.000000           5.604846   \n",
       "\n",
       "               bmi       stroke  \n",
       "count  5110.000000  5110.000000  \n",
       "mean      3.328712     0.048728  \n",
       "std       0.259801     0.215320  \n",
       "min       2.332144     0.000000  \n",
       "25%       3.169686     0.000000  \n",
       "50%       3.335770     0.000000  \n",
       "75%       3.490429     0.000000  \n",
       "max       4.580877     1.000000  "
      ]
     },
     "execution_count": 24,
     "metadata": {},
     "output_type": "execute_result"
    }
   ],
   "source": [
    "data.describe()"
   ]
  },
  {
   "cell_type": "markdown",
   "id": "5d171596",
   "metadata": {},
   "source": [
    "# 3. Exploratory Data Analysis (EDA)"
   ]
  },
  {
   "cell_type": "markdown",
   "id": "af3dd7d0",
   "metadata": {},
   "source": [
    "3.1 Univariate analysis"
   ]
  },
  {
   "cell_type": "code",
   "execution_count": 25,
   "id": "bc3a49a7",
   "metadata": {},
   "outputs": [
    {
     "data": {
      "image/png": "[encoded data removed]",
      "text/plain": [
       "<Figure size 432x288 with 1 Axes>"
      ]
     },
     "metadata": {
      "needs_background": "light"
     },
     "output_type": "display_data"
    }
   ],
   "source": [
    "# Stroke(target column)\n",
    "df=sns.countplot(data=data,x='stroke')\n",
    "plt.title(\"count plot of stroke\")\n",
    "for i in df.containers:\n",
    "    df.bar_label(i)"
   ]
  },
  {
   "cell_type": "markdown",
   "id": "9f3d3305",
   "metadata": {},
   "source": [
    "Stroke is our target column, and the possibility of affecting Stroke out of 5110 patients is 249."
   ]
  },
  {
   "cell_type": "code",
   "execution_count": 26,
   "id": "626f35a4",
   "metadata": {},
   "outputs": [],
   "source": [
    "# Analysing numerical columns\n",
    "cols=data[['age','bmi','avg_glucose_level']]"
   ]
  },
  {
   "cell_type": "code",
   "execution_count": 27,
   "id": "df77a71c",
   "metadata": {},
   "outputs": [
    {
     "data": {
      "image/png": "[encoded data removed]",
      "text/plain": [
       "<Figure size 1080x1080 with 3 Axes>"
      ]
     },
     "metadata": {
      "needs_background": "light"
     },
     "output_type": "display_data"
    }
   ],
   "source": [
    "plt.figure(figsize=(15,15))\n",
    "plotnumber =1\n",
    "for column in cols:\n",
    "    if plotnumber<=15:\n",
    "        ax=plt.subplot(5,3,plotnumber)\n",
    "        sns.histplot(cols[column])\n",
    "        plt.xlabel(column,fontsize=20)\n",
    "    plotnumber+=1\n",
    "plt.tight_layout()"
   ]
  },
  {
   "cell_type": "markdown",
   "id": "61246eb2",
   "metadata": {},
   "source": [
    "As we have already performed Log Transformation for the 'bmi' and 'avg glucose level', we can see that it's normally distributed along with 'age'."
   ]
  },
  {
   "cell_type": "code",
   "execution_count": 28,
   "id": "1b8f2972",
   "metadata": {},
   "outputs": [],
   "source": [
    "cat = data[['gender','hypertension','heart_disease','ever_married','work_type','Residence_type','smoking_status']]"
   ]
  },
  {
   "cell_type": "code",
   "execution_count": 29,
   "id": "ba4a571e",
   "metadata": {},
   "outputs": [
    {
     "data": {
      "image/png": "[encoded data removed]",
      "text/plain": [
       "<Figure size 1080x1080 with 7 Axes>"
      ]
     },
     "metadata": {
      "needs_background": "light"
     },
     "output_type": "display_data"
    }
   ],
   "source": [
    "plt.figure(figsize=(15,15))\n",
    "plotnumber =1\n",
    "for column in cat:\n",
    "    if plotnumber<=15:\n",
    "        ax=plt.subplot(5,3,plotnumber)\n",
    "        df=sns.countplot(cat[column])\n",
    "        plt.xlabel(column,fontsize=20)\n",
    "        for i in df.containers:\n",
    "             df.bar_label(i)\n",
    "    plotnumber+=1\n",
    "        \n",
    "plt.tight_layout()"
   ]
  },
  {
   "cell_type": "markdown",
   "id": "a5bb1381",
   "metadata": {},
   "source": [
    "1. There are more female patients than male\n",
    "\n",
    "2. There are more number of patients having hypertention and heart diseases\n",
    "\n",
    "3. There are more married persons\n",
    "\n",
    "4. There are more patients whom belongs to private jobs\n",
    "\n",
    "5. There is no significant difference in numbers of resident_type"
   ]
  },
  {
   "cell_type": "markdown",
   "id": "02d47fc5",
   "metadata": {},
   "source": [
    "3.2 Bivariate analysis"
   ]
  },
  {
   "cell_type": "code",
   "execution_count": 30,
   "id": "7dd50894",
   "metadata": {},
   "outputs": [
    {
     "data": {
      "text/plain": [
       "Text(0.5, 1.0, 'Stroke vs Gender')"
      ]
     },
     "execution_count": 30,
     "metadata": {},
     "output_type": "execute_result"
    },
    {
     "data": {
      "image/png": "[encoded data removed]",
      "text/plain": [
       "<Figure size 432x288 with 1 Axes>"
      ]
     },
     "metadata": {
      "needs_background": "light"
     },
     "output_type": "display_data"
    }
   ],
   "source": [
    "# Gender with stroke\n",
    "sns.countplot(data=data,x='gender',hue='stroke')\n",
    "plt.title(\"Stroke vs Gender\")"
   ]
  },
  {
   "cell_type": "markdown",
   "id": "243d5279",
   "metadata": {},
   "source": [
    "There is no much significant difference between stroke rate based on gender."
   ]
  },
  {
   "cell_type": "code",
   "execution_count": 31,
   "id": "bccc935a",
   "metadata": {},
   "outputs": [
    {
     "data": {
      "text/plain": [
       "Text(0.5, 1.0, 'Stroke vs Age')"
      ]
     },
     "execution_count": 31,
     "metadata": {},
     "output_type": "execute_result"
    },
    {
     "data": {
      "image/png": "[encoded data removed]",
      "text/plain": [
       "<Figure size 432x288 with 1 Axes>"
      ]
     },
     "metadata": {
      "needs_background": "light"
     },
     "output_type": "display_data"
    }
   ],
   "source": [
    "# Age with stroke\n",
    "sns.boxplot(data=data,x='stroke',y='age')\n",
    "plt.title(\"Stroke vs Age\")"
   ]
  },
  {
   "cell_type": "markdown",
   "id": "9fe94fd3",
   "metadata": {},
   "source": [
    "People aged more than 60 years tend to have stroke than others. Also, some people below the age 20 tends to have stroke."
   ]
  },
  {
   "cell_type": "code",
   "execution_count": 32,
   "id": "cd94bc09",
   "metadata": {},
   "outputs": [
    {
     "data": {
      "text/plain": [
       "Text(0.5, 1.0, 'Stroke vs Ever married')"
      ]
     },
     "execution_count": 32,
     "metadata": {},
     "output_type": "execute_result"
    },
    {
     "data": {
      "image/png": "[encoded data removed]",
      "text/plain": [
       "<Figure size 432x288 with 1 Axes>"
      ]
     },
     "metadata": {
      "needs_background": "light"
     },
     "output_type": "display_data"
    }
   ],
   "source": [
    "sns.countplot(data=data,x='ever_married',hue='stroke')\n",
    "plt.title(\"Stroke vs Ever married\")"
   ]
  },
  {
   "cell_type": "markdown",
   "id": "55f013c8",
   "metadata": {},
   "source": [
    "There is a significant different in the attributes"
   ]
  },
  {
   "cell_type": "code",
   "execution_count": 33,
   "id": "9e1f21f5",
   "metadata": {},
   "outputs": [
    {
     "data": {
      "text/plain": [
       "Text(0.5, 1.0, 'Stroke vs Work type')"
      ]
     },
     "execution_count": 33,
     "metadata": {},
     "output_type": "execute_result"
    },
    {
     "data": {
      "image/png": "[encoded data removed]",
      "text/plain": [
       "<Figure size 432x288 with 1 Axes>"
      ]
     },
     "metadata": {
      "needs_background": "light"
     },
     "output_type": "display_data"
    }
   ],
   "source": [
    "sns.countplot(data=data,x='work_type',hue='stroke')\n",
    "plt.title(\"Stroke vs Work type\")"
   ]
  },
  {
   "cell_type": "markdown",
   "id": "67e1bbef",
   "metadata": {},
   "source": [
    "People working in the private sector prone to have a tendencey of getting stroke than those who have never worked."
   ]
  },
  {
   "cell_type": "code",
   "execution_count": 34,
   "id": "1189f9b7",
   "metadata": {},
   "outputs": [
    {
     "data": {
      "text/plain": [
       "Text(0.5, 1.0, 'stroke vs Residence_type')"
      ]
     },
     "execution_count": 34,
     "metadata": {},
     "output_type": "execute_result"
    },
    {
     "data": {
      "image/png": "[encoded data removed]",
      "text/plain": [
       "<Figure size 432x288 with 1 Axes>"
      ]
     },
     "metadata": {
      "needs_background": "light"
     },
     "output_type": "display_data"
    }
   ],
   "source": [
    "sns.countplot(data=data,x='Residence_type',hue='stroke')\n",
    "plt.title(\"stroke vs Residence_type\")"
   ]
  },
  {
   "cell_type": "markdown",
   "id": "006159f6",
   "metadata": {},
   "source": [
    "There is no much difference in both attribute values, and can be discarded"
   ]
  },
  {
   "cell_type": "code",
   "execution_count": 35,
   "id": "50ac04a0",
   "metadata": {},
   "outputs": [
    {
     "data": {
      "text/plain": [
       "Text(0.5, 1.0, 'stroke vs avg_glucose_level')"
      ]
     },
     "execution_count": 35,
     "metadata": {},
     "output_type": "execute_result"
    },
    {
     "data": {
      "image/png": "[encoded data removed]",
      "text/plain": [
       "<Figure size 432x288 with 1 Axes>"
      ]
     },
     "metadata": {
      "needs_background": "light"
     },
     "output_type": "display_data"
    }
   ],
   "source": [
    "sns.boxplot(data=data,x='stroke',y='avg_glucose_level')\n",
    "plt.title(\"stroke vs avg_glucose_level\")"
   ]
  },
  {
   "cell_type": "markdown",
   "id": "fcceb279",
   "metadata": {},
   "source": [
    "People having stroke has an average glucose level of  more 100, also we could see some outliers that may be genuine\n"
   ]
  },
  {
   "cell_type": "code",
   "execution_count": 36,
   "id": "83cb4c5e",
   "metadata": {},
   "outputs": [
    {
     "data": {
      "text/plain": [
       "Text(0.5, 1.0, 'Stroke vs Smoking status')"
      ]
     },
     "execution_count": 36,
     "metadata": {},
     "output_type": "execute_result"
    },
    {
     "data": {
      "image/png": "[encoded data removed]",
      "text/plain": [
       "<Figure size 432x288 with 1 Axes>"
      ]
     },
     "metadata": {
      "needs_background": "light"
     },
     "output_type": "display_data"
    }
   ],
   "source": [
    "sns.countplot(data=data,x='smoking_status',hue='stroke')\n",
    "plt.title(\"Stroke vs Smoking status\")"
   ]
  },
  {
   "cell_type": "markdown",
   "id": "1647ff8c",
   "metadata": {},
   "source": [
    "There is no much significant difference here"
   ]
  },
  {
   "cell_type": "markdown",
   "id": "5289ff44",
   "metadata": {},
   "source": [
    "2.3 Encoding"
   ]
  },
  {
   "cell_type": "code",
   "execution_count": 37,
   "id": "cbb75036",
   "metadata": {},
   "outputs": [
    {
     "name": "stdout",
     "output_type": "stream",
     "text": [
      "<class 'pandas.core.frame.DataFrame'>\n",
      "RangeIndex: 5110 entries, 0 to 5109\n",
      "Data columns (total 11 columns):\n",
      " #   Column             Non-Null Count  Dtype  \n",
      "---  ------             --------------  -----  \n",
      " 0   gender             5110 non-null   object \n",
      " 1   age                5110 non-null   float64\n",
      " 2   hypertension       5110 non-null   int64  \n",
      " 3   heart_disease      5110 non-null   int64  \n",
      " 4   ever_married       5110 non-null   object \n",
      " 5   work_type          5110 non-null   object \n",
      " 6   Residence_type     5110 non-null   object \n",
      " 7   avg_glucose_level  5110 non-null   float64\n",
      " 8   bmi                5110 non-null   float64\n",
      " 9   smoking_status     5110 non-null   object \n",
      " 10  stroke             5110 non-null   int64  \n",
      "dtypes: float64(3), int64(3), object(5)\n",
      "memory usage: 439.3+ KB\n"
     ]
    }
   ],
   "source": [
    "data.info()"
   ]
  },
  {
   "cell_type": "markdown",
   "id": "9be92ec7",
   "metadata": {},
   "source": [
    "Encoding object columns:"
   ]
  },
  {
   "cell_type": "code",
   "execution_count": 38,
   "id": "d22e99e0",
   "metadata": {},
   "outputs": [
    {
     "data": {
      "text/plain": [
       "never smoked       1892\n",
       "Unknown            1544\n",
       "formerly smoked     885\n",
       "smokes              789\n",
       "Name: smoking_status, dtype: int64"
      ]
     },
     "execution_count": 38,
     "metadata": {},
     "output_type": "execute_result"
    }
   ],
   "source": [
    "data['smoking_status'].value_counts()"
   ]
  },
  {
   "cell_type": "code",
   "execution_count": 39,
   "id": "c48d6edc",
   "metadata": {},
   "outputs": [],
   "source": [
    "from sklearn import preprocessing\n",
    "label_encoder=preprocessing.LabelEncoder()\n",
    "data['smoking_status'] =label_encoder.fit_transform(data['smoking_status'])"
   ]
  },
  {
   "cell_type": "code",
   "execution_count": 40,
   "id": "690a9fd5",
   "metadata": {},
   "outputs": [],
   "source": [
    "data['work_type'] = label_encoder.fit_transform(data['work_type'])"
   ]
  },
  {
   "cell_type": "code",
   "execution_count": 41,
   "id": "65365fcb",
   "metadata": {},
   "outputs": [
    {
     "data": {
      "text/html": [
       "<div>\n",
       "<style scoped>\n",
       "    .dataframe tbody tr th:only-of-type {\n",
       "        vertical-align: middle;\n",
       "    }\n",
       "\n",
       "    .dataframe tbody tr th {\n",
       "        vertical-align: top;\n",
       "    }\n",
       "\n",
       "    .dataframe thead th {\n",
       "        text-align: right;\n",
       "    }\n",
       "</style>\n",
       "<table border=\"1\" class=\"dataframe\">\n",
       "  <thead>\n",
       "    <tr style=\"text-align: right;\">\n",
       "      <th></th>\n",
       "      <th>age</th>\n",
       "      <th>hypertension</th>\n",
       "      <th>heart_disease</th>\n",
       "      <th>work_type</th>\n",
       "      <th>avg_glucose_level</th>\n",
       "      <th>bmi</th>\n",
       "      <th>smoking_status</th>\n",
       "      <th>stroke</th>\n",
       "      <th>gender_Male</th>\n",
       "      <th>gender_Other</th>\n",
       "      <th>ever_married_Yes</th>\n",
       "      <th>Residence_type_Urban</th>\n",
       "    </tr>\n",
       "  </thead>\n",
       "  <tbody>\n",
       "    <tr>\n",
       "      <th>0</th>\n",
       "      <td>67.0</td>\n",
       "      <td>0</td>\n",
       "      <td>1</td>\n",
       "      <td>2</td>\n",
       "      <td>5.432367</td>\n",
       "      <td>3.600048</td>\n",
       "      <td>1</td>\n",
       "      <td>1</td>\n",
       "      <td>1</td>\n",
       "      <td>0</td>\n",
       "      <td>1</td>\n",
       "      <td>1</td>\n",
       "    </tr>\n",
       "    <tr>\n",
       "      <th>1</th>\n",
       "      <td>61.0</td>\n",
       "      <td>0</td>\n",
       "      <td>0</td>\n",
       "      <td>3</td>\n",
       "      <td>5.309307</td>\n",
       "      <td>3.335770</td>\n",
       "      <td>2</td>\n",
       "      <td>1</td>\n",
       "      <td>0</td>\n",
       "      <td>0</td>\n",
       "      <td>1</td>\n",
       "      <td>0</td>\n",
       "    </tr>\n",
       "    <tr>\n",
       "      <th>2</th>\n",
       "      <td>80.0</td>\n",
       "      <td>0</td>\n",
       "      <td>1</td>\n",
       "      <td>2</td>\n",
       "      <td>4.662684</td>\n",
       "      <td>3.481240</td>\n",
       "      <td>2</td>\n",
       "      <td>1</td>\n",
       "      <td>1</td>\n",
       "      <td>0</td>\n",
       "      <td>1</td>\n",
       "      <td>0</td>\n",
       "    </tr>\n",
       "    <tr>\n",
       "      <th>3</th>\n",
       "      <td>49.0</td>\n",
       "      <td>0</td>\n",
       "      <td>0</td>\n",
       "      <td>2</td>\n",
       "      <td>5.143008</td>\n",
       "      <td>3.538057</td>\n",
       "      <td>3</td>\n",
       "      <td>1</td>\n",
       "      <td>0</td>\n",
       "      <td>0</td>\n",
       "      <td>1</td>\n",
       "      <td>1</td>\n",
       "    </tr>\n",
       "    <tr>\n",
       "      <th>4</th>\n",
       "      <td>79.0</td>\n",
       "      <td>1</td>\n",
       "      <td>0</td>\n",
       "      <td>3</td>\n",
       "      <td>5.159745</td>\n",
       "      <td>3.178054</td>\n",
       "      <td>2</td>\n",
       "      <td>1</td>\n",
       "      <td>0</td>\n",
       "      <td>0</td>\n",
       "      <td>1</td>\n",
       "      <td>0</td>\n",
       "    </tr>\n",
       "  </tbody>\n",
       "</table>\n",
       "</div>"
      ],
      "text/plain": [
       "    age  hypertension  heart_disease  work_type  avg_glucose_level       bmi  \\\n",
       "0  67.0             0              1          2           5.432367  3.600048   \n",
       "1  61.0             0              0          3           5.309307  3.335770   \n",
       "2  80.0             0              1          2           4.662684  3.481240   \n",
       "3  49.0             0              0          2           5.143008  3.538057   \n",
       "4  79.0             1              0          3           5.159745  3.178054   \n",
       "\n",
       "   smoking_status  stroke  gender_Male  gender_Other  ever_married_Yes  \\\n",
       "0               1       1            1             0                 1   \n",
       "1               2       1            0             0                 1   \n",
       "2               2       1            1             0                 1   \n",
       "3               3       1            0             0                 1   \n",
       "4               2       1            0             0                 1   \n",
       "\n",
       "   Residence_type_Urban  \n",
       "0                     1  \n",
       "1                     0  \n",
       "2                     0  \n",
       "3                     1  \n",
       "4                     0  "
      ]
     },
     "execution_count": 41,
     "metadata": {},
     "output_type": "execute_result"
    }
   ],
   "source": [
    "data = pd.get_dummies(data,columns=['gender','ever_married','Residence_type'],drop_first=True)\n",
    "data.head()"
   ]
  },
  {
   "cell_type": "markdown",
   "id": "5b0a61fc",
   "metadata": {},
   "source": [
    "All object columns are encoded."
   ]
  },
  {
   "cell_type": "code",
   "execution_count": 42,
   "id": "e75a76d4",
   "metadata": {},
   "outputs": [
    {
     "data": {
      "text/plain": [
       "(5110, 12)"
      ]
     },
     "execution_count": 42,
     "metadata": {},
     "output_type": "execute_result"
    }
   ],
   "source": [
    "data.shape"
   ]
  },
  {
   "cell_type": "code",
   "execution_count": 43,
   "id": "69b040af",
   "metadata": {},
   "outputs": [
    {
     "data": {
      "text/html": [
       "<div>\n",
       "<style scoped>\n",
       "    .dataframe tbody tr th:only-of-type {\n",
       "        vertical-align: middle;\n",
       "    }\n",
       "\n",
       "    .dataframe tbody tr th {\n",
       "        vertical-align: top;\n",
       "    }\n",
       "\n",
       "    .dataframe thead th {\n",
       "        text-align: right;\n",
       "    }\n",
       "</style>\n",
       "<table border=\"1\" class=\"dataframe\">\n",
       "  <thead>\n",
       "    <tr style=\"text-align: right;\">\n",
       "      <th></th>\n",
       "      <th>age</th>\n",
       "      <th>hypertension</th>\n",
       "      <th>heart_disease</th>\n",
       "      <th>work_type</th>\n",
       "      <th>avg_glucose_level</th>\n",
       "      <th>bmi</th>\n",
       "      <th>smoking_status</th>\n",
       "      <th>stroke</th>\n",
       "      <th>gender_Male</th>\n",
       "      <th>gender_Other</th>\n",
       "      <th>ever_married_Yes</th>\n",
       "      <th>Residence_type_Urban</th>\n",
       "    </tr>\n",
       "  </thead>\n",
       "  <tbody>\n",
       "    <tr>\n",
       "      <th>count</th>\n",
       "      <td>5110.000000</td>\n",
       "      <td>5110.000000</td>\n",
       "      <td>5110.000000</td>\n",
       "      <td>5110.000000</td>\n",
       "      <td>5110.000000</td>\n",
       "      <td>5110.000000</td>\n",
       "      <td>5110.000000</td>\n",
       "      <td>5110.000000</td>\n",
       "      <td>5110.000000</td>\n",
       "      <td>5110.000000</td>\n",
       "      <td>5110.000000</td>\n",
       "      <td>5110.000000</td>\n",
       "    </tr>\n",
       "    <tr>\n",
       "      <th>mean</th>\n",
       "      <td>43.226614</td>\n",
       "      <td>0.097456</td>\n",
       "      <td>0.054012</td>\n",
       "      <td>2.167710</td>\n",
       "      <td>4.592465</td>\n",
       "      <td>3.328712</td>\n",
       "      <td>1.376908</td>\n",
       "      <td>0.048728</td>\n",
       "      <td>0.413894</td>\n",
       "      <td>0.000196</td>\n",
       "      <td>0.656164</td>\n",
       "      <td>0.508023</td>\n",
       "    </tr>\n",
       "    <tr>\n",
       "      <th>std</th>\n",
       "      <td>22.612647</td>\n",
       "      <td>0.296607</td>\n",
       "      <td>0.226063</td>\n",
       "      <td>1.090293</td>\n",
       "      <td>0.361985</td>\n",
       "      <td>0.259801</td>\n",
       "      <td>1.071534</td>\n",
       "      <td>0.215320</td>\n",
       "      <td>0.492578</td>\n",
       "      <td>0.013989</td>\n",
       "      <td>0.475034</td>\n",
       "      <td>0.499985</td>\n",
       "    </tr>\n",
       "    <tr>\n",
       "      <th>min</th>\n",
       "      <td>0.080000</td>\n",
       "      <td>0.000000</td>\n",
       "      <td>0.000000</td>\n",
       "      <td>0.000000</td>\n",
       "      <td>4.009513</td>\n",
       "      <td>2.332144</td>\n",
       "      <td>0.000000</td>\n",
       "      <td>0.000000</td>\n",
       "      <td>0.000000</td>\n",
       "      <td>0.000000</td>\n",
       "      <td>0.000000</td>\n",
       "      <td>0.000000</td>\n",
       "    </tr>\n",
       "    <tr>\n",
       "      <th>25%</th>\n",
       "      <td>25.000000</td>\n",
       "      <td>0.000000</td>\n",
       "      <td>0.000000</td>\n",
       "      <td>2.000000</td>\n",
       "      <td>4.346982</td>\n",
       "      <td>3.169686</td>\n",
       "      <td>0.000000</td>\n",
       "      <td>0.000000</td>\n",
       "      <td>0.000000</td>\n",
       "      <td>0.000000</td>\n",
       "      <td>0.000000</td>\n",
       "      <td>0.000000</td>\n",
       "    </tr>\n",
       "    <tr>\n",
       "      <th>50%</th>\n",
       "      <td>45.000000</td>\n",
       "      <td>0.000000</td>\n",
       "      <td>0.000000</td>\n",
       "      <td>2.000000</td>\n",
       "      <td>4.520538</td>\n",
       "      <td>3.335770</td>\n",
       "      <td>2.000000</td>\n",
       "      <td>0.000000</td>\n",
       "      <td>0.000000</td>\n",
       "      <td>0.000000</td>\n",
       "      <td>1.000000</td>\n",
       "      <td>1.000000</td>\n",
       "    </tr>\n",
       "    <tr>\n",
       "      <th>75%</th>\n",
       "      <td>61.000000</td>\n",
       "      <td>0.000000</td>\n",
       "      <td>0.000000</td>\n",
       "      <td>3.000000</td>\n",
       "      <td>4.736988</td>\n",
       "      <td>3.490429</td>\n",
       "      <td>2.000000</td>\n",
       "      <td>0.000000</td>\n",
       "      <td>1.000000</td>\n",
       "      <td>0.000000</td>\n",
       "      <td>1.000000</td>\n",
       "      <td>1.000000</td>\n",
       "    </tr>\n",
       "    <tr>\n",
       "      <th>max</th>\n",
       "      <td>82.000000</td>\n",
       "      <td>1.000000</td>\n",
       "      <td>1.000000</td>\n",
       "      <td>4.000000</td>\n",
       "      <td>5.604846</td>\n",
       "      <td>4.580877</td>\n",
       "      <td>3.000000</td>\n",
       "      <td>1.000000</td>\n",
       "      <td>1.000000</td>\n",
       "      <td>1.000000</td>\n",
       "      <td>1.000000</td>\n",
       "      <td>1.000000</td>\n",
       "    </tr>\n",
       "  </tbody>\n",
       "</table>\n",
       "</div>"
      ],
      "text/plain": [
       "               age  hypertension  heart_disease    work_type  \\\n",
       "count  5110.000000   5110.000000    5110.000000  5110.000000   \n",
       "mean     43.226614      0.097456       0.054012     2.167710   \n",
       "std      22.612647      0.296607       0.226063     1.090293   \n",
       "min       0.080000      0.000000       0.000000     0.000000   \n",
       "25%      25.000000      0.000000       0.000000     2.000000   \n",
       "50%      45.000000      0.000000       0.000000     2.000000   \n",
       "75%      61.000000      0.000000       0.000000     3.000000   \n",
       "max      82.000000      1.000000       1.000000     4.000000   \n",
       "\n",
       "       avg_glucose_level          bmi  smoking_status       stroke  \\\n",
       "count        5110.000000  5110.000000     5110.000000  5110.000000   \n",
       "mean            4.592465     3.328712        1.376908     0.048728   \n",
       "std             0.361985     0.259801        1.071534     0.215320   \n",
       "min             4.009513     2.332144        0.000000     0.000000   \n",
       "25%             4.346982     3.169686        0.000000     0.000000   \n",
       "50%             4.520538     3.335770        2.000000     0.000000   \n",
       "75%             4.736988     3.490429        2.000000     0.000000   \n",
       "max             5.604846     4.580877        3.000000     1.000000   \n",
       "\n",
       "       gender_Male  gender_Other  ever_married_Yes  Residence_type_Urban  \n",
       "count  5110.000000   5110.000000       5110.000000           5110.000000  \n",
       "mean      0.413894      0.000196          0.656164              0.508023  \n",
       "std       0.492578      0.013989          0.475034              0.499985  \n",
       "min       0.000000      0.000000          0.000000              0.000000  \n",
       "25%       0.000000      0.000000          0.000000              0.000000  \n",
       "50%       0.000000      0.000000          1.000000              1.000000  \n",
       "75%       1.000000      0.000000          1.000000              1.000000  \n",
       "max       1.000000      1.000000          1.000000              1.000000  "
      ]
     },
     "execution_count": 43,
     "metadata": {},
     "output_type": "execute_result"
    }
   ],
   "source": [
    "data.describe()"
   ]
  },
  {
   "cell_type": "markdown",
   "id": "4e547dfb",
   "metadata": {},
   "source": [
    "2.4 Feature reduction\n",
    "\n",
    "&\n",
    "\n",
    "2.6 Feature Engineering"
   ]
  },
  {
   "cell_type": "code",
   "execution_count": 44,
   "id": "60173636",
   "metadata": {},
   "outputs": [
    {
     "data": {
      "text/plain": [
       "<AxesSubplot:>"
      ]
     },
     "execution_count": 44,
     "metadata": {},
     "output_type": "execute_result"
    },
    {
     "data": {
      "image/png": "[encoded data removed]",
      "text/plain": [
       "<Figure size 1440x576 with 2 Axes>"
      ]
     },
     "metadata": {
      "needs_background": "light"
     },
     "output_type": "display_data"
    }
   ],
   "source": [
    "corrmatrix=data.corr()\n",
    "plt.subplots(figsize=(20,8))\n",
    "sns.heatmap(corrmatrix,vmin=-1,vmax=1,annot=True,linewidth=.2,cmap='YlGnBu')"
   ]
  },
  {
   "cell_type": "markdown",
   "id": "55f42c12",
   "metadata": {},
   "source": [
    "As part of feature reduction we have already droped the id column, and as per the above heat map there is no high/low correlation among the variables."
   ]
  },
  {
   "cell_type": "markdown",
   "id": "e1233075",
   "metadata": {},
   "source": [
    "2.5 Standardization/Normalization"
   ]
  },
  {
   "cell_type": "code",
   "execution_count": 45,
   "id": "98f3dc46",
   "metadata": {},
   "outputs": [],
   "source": [
    "# Splitting data\n",
    "x=data.drop('stroke',axis=1)\n",
    "y=data['stroke']"
   ]
  },
  {
   "cell_type": "code",
   "execution_count": 46,
   "id": "34a134fb",
   "metadata": {},
   "outputs": [
    {
     "data": {
      "text/html": [
       "<div>\n",
       "<style scoped>\n",
       "    .dataframe tbody tr th:only-of-type {\n",
       "        vertical-align: middle;\n",
       "    }\n",
       "\n",
       "    .dataframe tbody tr th {\n",
       "        vertical-align: top;\n",
       "    }\n",
       "\n",
       "    .dataframe thead th {\n",
       "        text-align: right;\n",
       "    }\n",
       "</style>\n",
       "<table border=\"1\" class=\"dataframe\">\n",
       "  <thead>\n",
       "    <tr style=\"text-align: right;\">\n",
       "      <th></th>\n",
       "      <th>0</th>\n",
       "      <th>1</th>\n",
       "      <th>2</th>\n",
       "      <th>3</th>\n",
       "      <th>4</th>\n",
       "      <th>5</th>\n",
       "      <th>6</th>\n",
       "      <th>7</th>\n",
       "      <th>8</th>\n",
       "      <th>9</th>\n",
       "      <th>10</th>\n",
       "    </tr>\n",
       "  </thead>\n",
       "  <tbody>\n",
       "    <tr>\n",
       "      <th>count</th>\n",
       "      <td>5110.000000</td>\n",
       "      <td>5110.000000</td>\n",
       "      <td>5110.000000</td>\n",
       "      <td>5110.000000</td>\n",
       "      <td>5110.000000</td>\n",
       "      <td>5110.000000</td>\n",
       "      <td>5110.000000</td>\n",
       "      <td>5110.000000</td>\n",
       "      <td>5110.000000</td>\n",
       "      <td>5110.000000</td>\n",
       "      <td>5110.000000</td>\n",
       "    </tr>\n",
       "    <tr>\n",
       "      <th>mean</th>\n",
       "      <td>0.526692</td>\n",
       "      <td>0.097456</td>\n",
       "      <td>0.054012</td>\n",
       "      <td>0.541928</td>\n",
       "      <td>0.365411</td>\n",
       "      <td>0.443168</td>\n",
       "      <td>0.458969</td>\n",
       "      <td>0.413894</td>\n",
       "      <td>0.000196</td>\n",
       "      <td>0.656164</td>\n",
       "      <td>0.508023</td>\n",
       "    </tr>\n",
       "    <tr>\n",
       "      <th>std</th>\n",
       "      <td>0.276033</td>\n",
       "      <td>0.296607</td>\n",
       "      <td>0.226063</td>\n",
       "      <td>0.272573</td>\n",
       "      <td>0.226902</td>\n",
       "      <td>0.115532</td>\n",
       "      <td>0.357178</td>\n",
       "      <td>0.492578</td>\n",
       "      <td>0.013989</td>\n",
       "      <td>0.475034</td>\n",
       "      <td>0.499985</td>\n",
       "    </tr>\n",
       "    <tr>\n",
       "      <th>min</th>\n",
       "      <td>0.000000</td>\n",
       "      <td>0.000000</td>\n",
       "      <td>0.000000</td>\n",
       "      <td>0.000000</td>\n",
       "      <td>0.000000</td>\n",
       "      <td>0.000000</td>\n",
       "      <td>0.000000</td>\n",
       "      <td>0.000000</td>\n",
       "      <td>0.000000</td>\n",
       "      <td>0.000000</td>\n",
       "      <td>0.000000</td>\n",
       "    </tr>\n",
       "    <tr>\n",
       "      <th>25%</th>\n",
       "      <td>0.304199</td>\n",
       "      <td>0.000000</td>\n",
       "      <td>0.000000</td>\n",
       "      <td>0.500000</td>\n",
       "      <td>0.211535</td>\n",
       "      <td>0.372450</td>\n",
       "      <td>0.000000</td>\n",
       "      <td>0.000000</td>\n",
       "      <td>0.000000</td>\n",
       "      <td>0.000000</td>\n",
       "      <td>0.000000</td>\n",
       "    </tr>\n",
       "    <tr>\n",
       "      <th>50%</th>\n",
       "      <td>0.548340</td>\n",
       "      <td>0.000000</td>\n",
       "      <td>0.000000</td>\n",
       "      <td>0.500000</td>\n",
       "      <td>0.320325</td>\n",
       "      <td>0.446307</td>\n",
       "      <td>0.666667</td>\n",
       "      <td>0.000000</td>\n",
       "      <td>0.000000</td>\n",
       "      <td>1.000000</td>\n",
       "      <td>1.000000</td>\n",
       "    </tr>\n",
       "    <tr>\n",
       "      <th>75%</th>\n",
       "      <td>0.743652</td>\n",
       "      <td>0.000000</td>\n",
       "      <td>0.000000</td>\n",
       "      <td>0.750000</td>\n",
       "      <td>0.456002</td>\n",
       "      <td>0.515083</td>\n",
       "      <td>0.666667</td>\n",
       "      <td>1.000000</td>\n",
       "      <td>0.000000</td>\n",
       "      <td>1.000000</td>\n",
       "      <td>1.000000</td>\n",
       "    </tr>\n",
       "    <tr>\n",
       "      <th>max</th>\n",
       "      <td>1.000000</td>\n",
       "      <td>1.000000</td>\n",
       "      <td>1.000000</td>\n",
       "      <td>1.000000</td>\n",
       "      <td>1.000000</td>\n",
       "      <td>1.000000</td>\n",
       "      <td>1.000000</td>\n",
       "      <td>1.000000</td>\n",
       "      <td>1.000000</td>\n",
       "      <td>1.000000</td>\n",
       "      <td>1.000000</td>\n",
       "    </tr>\n",
       "  </tbody>\n",
       "</table>\n",
       "</div>"
      ],
      "text/plain": [
       "                0            1            2            3            4   \\\n",
       "count  5110.000000  5110.000000  5110.000000  5110.000000  5110.000000   \n",
       "mean      0.526692     0.097456     0.054012     0.541928     0.365411   \n",
       "std       0.276033     0.296607     0.226063     0.272573     0.226902   \n",
       "min       0.000000     0.000000     0.000000     0.000000     0.000000   \n",
       "25%       0.304199     0.000000     0.000000     0.500000     0.211535   \n",
       "50%       0.548340     0.000000     0.000000     0.500000     0.320325   \n",
       "75%       0.743652     0.000000     0.000000     0.750000     0.456002   \n",
       "max       1.000000     1.000000     1.000000     1.000000     1.000000   \n",
       "\n",
       "                5            6            7            8            9   \\\n",
       "count  5110.000000  5110.000000  5110.000000  5110.000000  5110.000000   \n",
       "mean      0.443168     0.458969     0.413894     0.000196     0.656164   \n",
       "std       0.115532     0.357178     0.492578     0.013989     0.475034   \n",
       "min       0.000000     0.000000     0.000000     0.000000     0.000000   \n",
       "25%       0.372450     0.000000     0.000000     0.000000     0.000000   \n",
       "50%       0.446307     0.666667     0.000000     0.000000     1.000000   \n",
       "75%       0.515083     0.666667     1.000000     0.000000     1.000000   \n",
       "max       1.000000     1.000000     1.000000     1.000000     1.000000   \n",
       "\n",
       "                10  \n",
       "count  5110.000000  \n",
       "mean      0.508023  \n",
       "std       0.499985  \n",
       "min       0.000000  \n",
       "25%       0.000000  \n",
       "50%       1.000000  \n",
       "75%       1.000000  \n",
       "max       1.000000  "
      ]
     },
     "execution_count": 46,
     "metadata": {},
     "output_type": "execute_result"
    }
   ],
   "source": [
    "# Min Max scalar\n",
    "from sklearn import preprocessing\n",
    "min_max = preprocessing.MinMaxScaler(feature_range=(0,1))\n",
    "x=min_max.fit_transform(x)\n",
    "x=pd.DataFrame(x)\n",
    "x.describe()"
   ]
  },
  {
   "cell_type": "code",
   "execution_count": 47,
   "id": "abf593bc",
   "metadata": {},
   "outputs": [
    {
     "data": {
      "text/html": [
       "<div>\n",
       "<style scoped>\n",
       "    .dataframe tbody tr th:only-of-type {\n",
       "        vertical-align: middle;\n",
       "    }\n",
       "\n",
       "    .dataframe tbody tr th {\n",
       "        vertical-align: top;\n",
       "    }\n",
       "\n",
       "    .dataframe thead th {\n",
       "        text-align: right;\n",
       "    }\n",
       "</style>\n",
       "<table border=\"1\" class=\"dataframe\">\n",
       "  <thead>\n",
       "    <tr style=\"text-align: right;\">\n",
       "      <th></th>\n",
       "      <th>age</th>\n",
       "      <th>hypertension</th>\n",
       "      <th>heart_disease</th>\n",
       "      <th>work_type</th>\n",
       "      <th>avg_glucose_level</th>\n",
       "      <th>bmi</th>\n",
       "      <th>smoking_status</th>\n",
       "      <th>stroke</th>\n",
       "      <th>gender_Male</th>\n",
       "      <th>gender_Other</th>\n",
       "      <th>ever_married_Yes</th>\n",
       "      <th>Residence_type_Urban</th>\n",
       "    </tr>\n",
       "  </thead>\n",
       "  <tbody>\n",
       "    <tr>\n",
       "      <th>0</th>\n",
       "      <td>67.0</td>\n",
       "      <td>0</td>\n",
       "      <td>1</td>\n",
       "      <td>2</td>\n",
       "      <td>5.432367</td>\n",
       "      <td>3.600048</td>\n",
       "      <td>1</td>\n",
       "      <td>1</td>\n",
       "      <td>1</td>\n",
       "      <td>0</td>\n",
       "      <td>1</td>\n",
       "      <td>1</td>\n",
       "    </tr>\n",
       "    <tr>\n",
       "      <th>1</th>\n",
       "      <td>61.0</td>\n",
       "      <td>0</td>\n",
       "      <td>0</td>\n",
       "      <td>3</td>\n",
       "      <td>5.309307</td>\n",
       "      <td>3.335770</td>\n",
       "      <td>2</td>\n",
       "      <td>1</td>\n",
       "      <td>0</td>\n",
       "      <td>0</td>\n",
       "      <td>1</td>\n",
       "      <td>0</td>\n",
       "    </tr>\n",
       "    <tr>\n",
       "      <th>2</th>\n",
       "      <td>80.0</td>\n",
       "      <td>0</td>\n",
       "      <td>1</td>\n",
       "      <td>2</td>\n",
       "      <td>4.662684</td>\n",
       "      <td>3.481240</td>\n",
       "      <td>2</td>\n",
       "      <td>1</td>\n",
       "      <td>1</td>\n",
       "      <td>0</td>\n",
       "      <td>1</td>\n",
       "      <td>0</td>\n",
       "    </tr>\n",
       "    <tr>\n",
       "      <th>3</th>\n",
       "      <td>49.0</td>\n",
       "      <td>0</td>\n",
       "      <td>0</td>\n",
       "      <td>2</td>\n",
       "      <td>5.143008</td>\n",
       "      <td>3.538057</td>\n",
       "      <td>3</td>\n",
       "      <td>1</td>\n",
       "      <td>0</td>\n",
       "      <td>0</td>\n",
       "      <td>1</td>\n",
       "      <td>1</td>\n",
       "    </tr>\n",
       "    <tr>\n",
       "      <th>4</th>\n",
       "      <td>79.0</td>\n",
       "      <td>1</td>\n",
       "      <td>0</td>\n",
       "      <td>3</td>\n",
       "      <td>5.159745</td>\n",
       "      <td>3.178054</td>\n",
       "      <td>2</td>\n",
       "      <td>1</td>\n",
       "      <td>0</td>\n",
       "      <td>0</td>\n",
       "      <td>1</td>\n",
       "      <td>0</td>\n",
       "    </tr>\n",
       "  </tbody>\n",
       "</table>\n",
       "</div>"
      ],
      "text/plain": [
       "    age  hypertension  heart_disease  work_type  avg_glucose_level       bmi  \\\n",
       "0  67.0             0              1          2           5.432367  3.600048   \n",
       "1  61.0             0              0          3           5.309307  3.335770   \n",
       "2  80.0             0              1          2           4.662684  3.481240   \n",
       "3  49.0             0              0          2           5.143008  3.538057   \n",
       "4  79.0             1              0          3           5.159745  3.178054   \n",
       "\n",
       "   smoking_status  stroke  gender_Male  gender_Other  ever_married_Yes  \\\n",
       "0               1       1            1             0                 1   \n",
       "1               2       1            0             0                 1   \n",
       "2               2       1            1             0                 1   \n",
       "3               3       1            0             0                 1   \n",
       "4               2       1            0             0                 1   \n",
       "\n",
       "   Residence_type_Urban  \n",
       "0                     1  \n",
       "1                     0  \n",
       "2                     0  \n",
       "3                     1  \n",
       "4                     0  "
      ]
     },
     "execution_count": 47,
     "metadata": {},
     "output_type": "execute_result"
    }
   ],
   "source": [
    "data.head()"
   ]
  },
  {
   "cell_type": "code",
   "execution_count": 48,
   "id": "14c4ac03",
   "metadata": {},
   "outputs": [],
   "source": [
    "# Splitting data\n",
    "from sklearn.model_selection import train_test_split\n",
    "x_train,x_test,y_train,y_test = train_test_split(x,y,test_size = 0.33,random_state = 42)"
   ]
  },
  {
   "cell_type": "code",
   "execution_count": 49,
   "id": "76404095",
   "metadata": {},
   "outputs": [
    {
     "data": {
      "text/plain": [
       "(3423, 11)"
      ]
     },
     "execution_count": 49,
     "metadata": {},
     "output_type": "execute_result"
    }
   ],
   "source": [
    "x_train.shape"
   ]
  },
  {
   "cell_type": "code",
   "execution_count": 50,
   "id": "1b43cc39",
   "metadata": {},
   "outputs": [
    {
     "data": {
      "text/plain": [
       "(3423,)"
      ]
     },
     "execution_count": 50,
     "metadata": {},
     "output_type": "execute_result"
    }
   ],
   "source": [
    "y_train.shape"
   ]
  },
  {
   "cell_type": "code",
   "execution_count": 51,
   "id": "766349a1",
   "metadata": {},
   "outputs": [
    {
     "data": {
      "text/plain": [
       "(1687, 11)"
      ]
     },
     "execution_count": 51,
     "metadata": {},
     "output_type": "execute_result"
    }
   ],
   "source": [
    "x_test.shape"
   ]
  },
  {
   "cell_type": "code",
   "execution_count": 52,
   "id": "7692f9bc",
   "metadata": {},
   "outputs": [
    {
     "data": {
      "text/plain": [
       "(1687,)"
      ]
     },
     "execution_count": 52,
     "metadata": {},
     "output_type": "execute_result"
    }
   ],
   "source": [
    "y_test.shape"
   ]
  },
  {
   "cell_type": "markdown",
   "id": "9c7c6a35",
   "metadata": {},
   "source": [
    "# 4. Modelling"
   ]
  },
  {
   "cell_type": "code",
   "execution_count": 53,
   "id": "dc62dda9",
   "metadata": {},
   "outputs": [],
   "source": [
    "# Model training\n",
    "# Randomforest\n",
    "from sklearn.ensemble import RandomForestClassifier\n",
    "rf = RandomForestClassifier()\n",
    "rf.fit(x_train,y_train)\n",
    "y_pred = rf.predict(x_test)"
   ]
  },
  {
   "cell_type": "code",
   "execution_count": 54,
   "id": "26445f57",
   "metadata": {},
   "outputs": [],
   "source": [
    "# Evaluate the performance\n",
    "from sklearn.metrics import confusion_matrix,accuracy_score,recall_score,precision_score,f1_score"
   ]
  },
  {
   "cell_type": "code",
   "execution_count": 55,
   "id": "2579ed76",
   "metadata": {},
   "outputs": [
    {
     "name": "stdout",
     "output_type": "stream",
     "text": [
      "Accuracy Score is :  0.943094250148192\n",
      "Recall Score is :  0.943094250148192\n",
      "Precision Score is :  0.943094250148192\n",
      "F1 score is :  0.943094250148192\n"
     ]
    }
   ],
   "source": [
    "print('Accuracy Score is : ',accuracy_score(y_test,y_pred))\n",
    "print('Recall Score is : ', recall_score(y_test,y_pred, average='micro'))\n",
    "print('Precision Score is : ', precision_score(y_test,y_pred, average='micro'))\n",
    "print('F1 score is : ', f1_score(y_test,y_pred, average='micro'))"
   ]
  },
  {
   "cell_type": "code",
   "execution_count": 56,
   "id": "99a0123e",
   "metadata": {},
   "outputs": [
    {
     "data": {
      "text/plain": [
       "array([[1590,    1],\n",
       "       [  95,    1]], dtype=int64)"
      ]
     },
     "execution_count": 56,
     "metadata": {},
     "output_type": "execute_result"
    }
   ],
   "source": [
    "confusion_matrix(y_test,y_pred)"
   ]
  },
  {
   "cell_type": "code",
   "execution_count": 57,
   "id": "ec61d6f1",
   "metadata": {},
   "outputs": [
    {
     "data": {
      "text/plain": [
       "4     27.962463\n",
       "0     23.368092\n",
       "5     23.090481\n",
       "6      6.946709\n",
       "3      5.479457\n",
       "7      3.158804\n",
       "10     3.148157\n",
       "2      2.469429\n",
       "1      2.357291\n",
       "9      2.019117\n",
       "8      0.000000\n",
       "dtype: float64"
      ]
     },
     "execution_count": 57,
     "metadata": {},
     "output_type": "execute_result"
    }
   ],
   "source": [
    "# Checking feature importance\n",
    "pd.Series(rf.feature_importances_,index= x.columns).sort_values(ascending=False)*100"
   ]
  },
  {
   "cell_type": "code",
   "execution_count": 58,
   "id": "99ced3f5",
   "metadata": {},
   "outputs": [
    {
     "data": {
      "text/html": [
       "<div>\n",
       "<style scoped>\n",
       "    .dataframe tbody tr th:only-of-type {\n",
       "        vertical-align: middle;\n",
       "    }\n",
       "\n",
       "    .dataframe tbody tr th {\n",
       "        vertical-align: top;\n",
       "    }\n",
       "\n",
       "    .dataframe thead th {\n",
       "        text-align: right;\n",
       "    }\n",
       "</style>\n",
       "<table border=\"1\" class=\"dataframe\">\n",
       "  <thead>\n",
       "    <tr style=\"text-align: right;\">\n",
       "      <th></th>\n",
       "      <th>age</th>\n",
       "      <th>hypertension</th>\n",
       "      <th>heart_disease</th>\n",
       "      <th>work_type</th>\n",
       "      <th>avg_glucose_level</th>\n",
       "      <th>bmi</th>\n",
       "      <th>smoking_status</th>\n",
       "      <th>stroke</th>\n",
       "      <th>gender_Male</th>\n",
       "      <th>ever_married_Yes</th>\n",
       "      <th>Residence_type_Urban</th>\n",
       "    </tr>\n",
       "  </thead>\n",
       "  <tbody>\n",
       "    <tr>\n",
       "      <th>0</th>\n",
       "      <td>67.0</td>\n",
       "      <td>0</td>\n",
       "      <td>1</td>\n",
       "      <td>2</td>\n",
       "      <td>5.432367</td>\n",
       "      <td>3.600048</td>\n",
       "      <td>1</td>\n",
       "      <td>1</td>\n",
       "      <td>1</td>\n",
       "      <td>1</td>\n",
       "      <td>1</td>\n",
       "    </tr>\n",
       "    <tr>\n",
       "      <th>1</th>\n",
       "      <td>61.0</td>\n",
       "      <td>0</td>\n",
       "      <td>0</td>\n",
       "      <td>3</td>\n",
       "      <td>5.309307</td>\n",
       "      <td>3.335770</td>\n",
       "      <td>2</td>\n",
       "      <td>1</td>\n",
       "      <td>0</td>\n",
       "      <td>1</td>\n",
       "      <td>0</td>\n",
       "    </tr>\n",
       "    <tr>\n",
       "      <th>2</th>\n",
       "      <td>80.0</td>\n",
       "      <td>0</td>\n",
       "      <td>1</td>\n",
       "      <td>2</td>\n",
       "      <td>4.662684</td>\n",
       "      <td>3.481240</td>\n",
       "      <td>2</td>\n",
       "      <td>1</td>\n",
       "      <td>1</td>\n",
       "      <td>1</td>\n",
       "      <td>0</td>\n",
       "    </tr>\n",
       "    <tr>\n",
       "      <th>3</th>\n",
       "      <td>49.0</td>\n",
       "      <td>0</td>\n",
       "      <td>0</td>\n",
       "      <td>2</td>\n",
       "      <td>5.143008</td>\n",
       "      <td>3.538057</td>\n",
       "      <td>3</td>\n",
       "      <td>1</td>\n",
       "      <td>0</td>\n",
       "      <td>1</td>\n",
       "      <td>1</td>\n",
       "    </tr>\n",
       "    <tr>\n",
       "      <th>4</th>\n",
       "      <td>79.0</td>\n",
       "      <td>1</td>\n",
       "      <td>0</td>\n",
       "      <td>3</td>\n",
       "      <td>5.159745</td>\n",
       "      <td>3.178054</td>\n",
       "      <td>2</td>\n",
       "      <td>1</td>\n",
       "      <td>0</td>\n",
       "      <td>1</td>\n",
       "      <td>0</td>\n",
       "    </tr>\n",
       "  </tbody>\n",
       "</table>\n",
       "</div>"
      ],
      "text/plain": [
       "    age  hypertension  heart_disease  work_type  avg_glucose_level       bmi  \\\n",
       "0  67.0             0              1          2           5.432367  3.600048   \n",
       "1  61.0             0              0          3           5.309307  3.335770   \n",
       "2  80.0             0              1          2           4.662684  3.481240   \n",
       "3  49.0             0              0          2           5.143008  3.538057   \n",
       "4  79.0             1              0          3           5.159745  3.178054   \n",
       "\n",
       "   smoking_status  stroke  gender_Male  ever_married_Yes  Residence_type_Urban  \n",
       "0               1       1            1                 1                     1  \n",
       "1               2       1            0                 1                     0  \n",
       "2               2       1            1                 1                     0  \n",
       "3               3       1            0                 1                     1  \n",
       "4               2       1            0                 1                     0  "
      ]
     },
     "execution_count": 58,
     "metadata": {},
     "output_type": "execute_result"
    }
   ],
   "source": [
    "# Droping gender_Other column\n",
    "data =data.drop(['gender_Other'],axis=1)\n",
    "data.head()"
   ]
  },
  {
   "cell_type": "code",
   "execution_count": 59,
   "id": "66907c5d",
   "metadata": {},
   "outputs": [],
   "source": [
    "# Logistic regression model\n",
    "from sklearn.linear_model import LogisticRegression\n",
    "logit_model= LogisticRegression(random_state =42)\n",
    "logit_model.fit(x_train,y_train)\n",
    "y_pred = logit_model.predict(x_test)"
   ]
  },
  {
   "cell_type": "code",
   "execution_count": 60,
   "id": "096106e2",
   "metadata": {},
   "outputs": [
    {
     "name": "stdout",
     "output_type": "stream",
     "text": [
      "Accuracy Score is :  0.943094250148192\n",
      "Recall Score is :  0.943094250148192\n",
      "Precision Score is :  0.943094250148192\n",
      "F1 score is :  0.943094250148192\n"
     ]
    }
   ],
   "source": [
    "print('Accuracy Score is : ',accuracy_score(y_test,y_pred))\n",
    "print('Recall Score is : ', recall_score(y_test,y_pred, average='micro'))\n",
    "print('Precision Score is : ', precision_score(y_test,y_pred, average='micro'))\n",
    "print('F1 score is : ', f1_score(y_test,y_pred, average='micro'))"
   ]
  },
  {
   "cell_type": "code",
   "execution_count": 61,
   "id": "13cb12f1",
   "metadata": {},
   "outputs": [],
   "source": [
    "# KNN model\n",
    "from sklearn.neighbors import KNeighborsClassifier"
   ]
  },
  {
   "cell_type": "code",
   "execution_count": 62,
   "id": "4610e46e",
   "metadata": {},
   "outputs": [],
   "source": [
    "# To obtain optimum k values \n",
    "acc_values = []\n",
    "neighbors = np.arange(3,15)\n",
    "for k in neighbors:\n",
    "    classifier = KNeighborsClassifier(n_neighbors=k)\n",
    "    classifier.fit(x_train,y_train)\n",
    "    y_pred=classifier.predict(x_test)\n",
    "    acc= accuracy_score(y_test,y_pred)\n",
    "    acc_values.append(acc)\n",
    "    acc_values"
   ]
  },
  {
   "cell_type": "code",
   "execution_count": 63,
   "id": "7476010e",
   "metadata": {},
   "outputs": [
    {
     "data": {
      "text/plain": [
       "Text(0, 0.5, 'accuracy')"
      ]
     },
     "execution_count": 63,
     "metadata": {},
     "output_type": "execute_result"
    },
    {
     "data": {
      "image/png": "[encoded data removed]",
      "text/plain": [
       "<Figure size 432x288 with 1 Axes>"
      ]
     },
     "metadata": {
      "needs_background": "light"
     },
     "output_type": "display_data"
    }
   ],
   "source": [
    "plt.plot(neighbors,acc_values,'o')\n",
    "plt.xlabel('k_value')\n",
    "plt.ylabel('accuracy')"
   ]
  },
  {
   "cell_type": "code",
   "execution_count": 64,
   "id": "61d024f0",
   "metadata": {},
   "outputs": [],
   "source": [
    "classifier =KNeighborsClassifier(n_neighbors = 6)\n",
    "classifier.fit(x_train,y_train)\n",
    "y_pred = classifier.predict(x_test)"
   ]
  },
  {
   "cell_type": "code",
   "execution_count": 65,
   "id": "42b039d7",
   "metadata": {},
   "outputs": [
    {
     "name": "stdout",
     "output_type": "stream",
     "text": [
      "Accuracy Score is :  0.943094250148192\n",
      "Recall Score is :  0.943094250148192\n",
      "Precision Score is :  0.943094250148192\n",
      "F1 score is :  0.943094250148192\n"
     ]
    }
   ],
   "source": [
    "print('Accuracy Score is : ',accuracy_score(y_test,y_pred))\n",
    "print('Recall Score is : ', recall_score(y_test,y_pred, average='micro'))\n",
    "print('Precision Score is : ', precision_score(y_test,y_pred, average='micro'))\n",
    "print('F1 score is : ', f1_score(y_test,y_pred, average='micro'))"
   ]
  },
  {
   "cell_type": "code",
   "execution_count": 66,
   "id": "aaea9242",
   "metadata": {},
   "outputs": [
    {
     "data": {
      "text/plain": [
       "array([[1591,    0],\n",
       "       [  96,    0]], dtype=int64)"
      ]
     },
     "execution_count": 66,
     "metadata": {},
     "output_type": "execute_result"
    }
   ],
   "source": [
    "confusion_matrix(y_test,y_pred)"
   ]
  },
  {
   "cell_type": "code",
   "execution_count": 67,
   "id": "04161b4e",
   "metadata": {},
   "outputs": [],
   "source": [
    "# SVM model\n",
    "from sklearn.svm import SVC\n",
    "classifier = SVC(kernel='rbf',random_state = 0)\n",
    "classifier.fit(x_train,y_train)\n",
    "y_pred_svc = classifier.predict(x_test)"
   ]
  },
  {
   "cell_type": "code",
   "execution_count": 68,
   "id": "93bec8f4",
   "metadata": {},
   "outputs": [
    {
     "name": "stdout",
     "output_type": "stream",
     "text": [
      "Accuracy Score is :  0.943094250148192\n",
      "Recall Score is :  0.943094250148192\n",
      "Precision Score is :  0.943094250148192\n",
      "F1 score is :  0.943094250148192\n"
     ]
    }
   ],
   "source": [
    "print('Accuracy Score is : ',accuracy_score(y_test,y_pred))\n",
    "print('Recall Score is : ', recall_score(y_test,y_pred, average='micro'))\n",
    "print('Precision Score is : ', precision_score(y_test,y_pred, average='micro'))\n",
    "print('F1 score is : ', f1_score(y_test,y_pred, average='micro'))"
   ]
  },
  {
   "cell_type": "markdown",
   "id": "37a5a2a5",
   "metadata": {},
   "source": [
    "Al the models are having 94.30 of accuracy, and here we will go with SVM model"
   ]
  },
  {
   "cell_type": "markdown",
   "id": "3cc06fa7",
   "metadata": {},
   "source": [
    "# 5. Model Fine tuning"
   ]
  },
  {
   "cell_type": "code",
   "execution_count": 69,
   "id": "6ab5a364",
   "metadata": {},
   "outputs": [],
   "source": [
    "from sklearn.model_selection import GridSearchCV"
   ]
  },
  {
   "cell_type": "code",
   "execution_count": 70,
   "id": "b195470c",
   "metadata": {},
   "outputs": [
    {
     "name": "stdout",
     "output_type": "stream",
     "text": [
      "Fitting 5 folds for each of 25 candidates, totalling 125 fits\n",
      "[CV 1/5] END ........C=0.1, gamma=1, kernel=rbf;, score=0.955 total time=   0.0s\n",
      "[CV 2/5] END ........C=0.1, gamma=1, kernel=rbf;, score=0.955 total time=   0.0s\n",
      "[CV 3/5] END ........C=0.1, gamma=1, kernel=rbf;, score=0.955 total time=   0.0s\n",
      "[CV 4/5] END ........C=0.1, gamma=1, kernel=rbf;, score=0.956 total time=   0.0s\n",
      "[CV 5/5] END ........C=0.1, gamma=1, kernel=rbf;, score=0.956 total time=   0.0s\n",
      "[CV 1/5] END ......C=0.1, gamma=0.1, kernel=rbf;, score=0.955 total time=   0.0s\n",
      "[CV 2/5] END ......C=0.1, gamma=0.1, kernel=rbf;, score=0.955 total time=   0.0s\n",
      "[CV 3/5] END ......C=0.1, gamma=0.1, kernel=rbf;, score=0.955 total time=   0.0s\n",
      "[CV 4/5] END ......C=0.1, gamma=0.1, kernel=rbf;, score=0.956 total time=   0.0s\n",
      "[CV 5/5] END ......C=0.1, gamma=0.1, kernel=rbf;, score=0.956 total time=   0.0s\n",
      "[CV 1/5] END .....C=0.1, gamma=0.01, kernel=rbf;, score=0.955 total time=   0.0s\n",
      "[CV 2/5] END .....C=0.1, gamma=0.01, kernel=rbf;, score=0.955 total time=   0.0s\n",
      "[CV 3/5] END .....C=0.1, gamma=0.01, kernel=rbf;, score=0.955 total time=   0.0s\n",
      "[CV 4/5] END .....C=0.1, gamma=0.01, kernel=rbf;, score=0.956 total time=   0.0s\n",
      "[CV 5/5] END .....C=0.1, gamma=0.01, kernel=rbf;, score=0.956 total time=   0.0s\n",
      "[CV 1/5] END ....C=0.1, gamma=0.001, kernel=rbf;, score=0.955 total time=   0.0s\n",
      "[CV 2/5] END ....C=0.1, gamma=0.001, kernel=rbf;, score=0.955 total time=   0.0s\n",
      "[CV 3/5] END ....C=0.1, gamma=0.001, kernel=rbf;, score=0.955 total time=   0.0s\n",
      "[CV 4/5] END ....C=0.1, gamma=0.001, kernel=rbf;, score=0.956 total time=   0.0s\n",
      "[CV 5/5] END ....C=0.1, gamma=0.001, kernel=rbf;, score=0.956 total time=   0.0s\n",
      "[CV 1/5] END ...C=0.1, gamma=0.0001, kernel=rbf;, score=0.955 total time=   0.0s\n",
      "[CV 2/5] END ...C=0.1, gamma=0.0001, kernel=rbf;, score=0.955 total time=   0.0s\n",
      "[CV 3/5] END ...C=0.1, gamma=0.0001, kernel=rbf;, score=0.955 total time=   0.0s\n",
      "[CV 4/5] END ...C=0.1, gamma=0.0001, kernel=rbf;, score=0.956 total time=   0.0s\n",
      "[CV 5/5] END ...C=0.1, gamma=0.0001, kernel=rbf;, score=0.956 total time=   0.0s\n",
      "[CV 1/5] END ..........C=1, gamma=1, kernel=rbf;, score=0.955 total time=   0.0s\n",
      "[CV 2/5] END ..........C=1, gamma=1, kernel=rbf;, score=0.955 total time=   0.0s\n",
      "[CV 3/5] END ..........C=1, gamma=1, kernel=rbf;, score=0.955 total time=   0.0s\n",
      "[CV 4/5] END ..........C=1, gamma=1, kernel=rbf;, score=0.956 total time=   0.0s\n",
      "[CV 5/5] END ..........C=1, gamma=1, kernel=rbf;, score=0.956 total time=   0.0s\n",
      "[CV 1/5] END ........C=1, gamma=0.1, kernel=rbf;, score=0.955 total time=   0.0s\n",
      "[CV 2/5] END ........C=1, gamma=0.1, kernel=rbf;, score=0.955 total time=   0.0s\n",
      "[CV 3/5] END ........C=1, gamma=0.1, kernel=rbf;, score=0.955 total time=   0.0s\n",
      "[CV 4/5] END ........C=1, gamma=0.1, kernel=rbf;, score=0.956 total time=   0.0s\n",
      "[CV 5/5] END ........C=1, gamma=0.1, kernel=rbf;, score=0.956 total time=   0.0s\n",
      "[CV 1/5] END .......C=1, gamma=0.01, kernel=rbf;, score=0.955 total time=   0.0s\n",
      "[CV 2/5] END .......C=1, gamma=0.01, kernel=rbf;, score=0.955 total time=   0.0s\n",
      "[CV 3/5] END .......C=1, gamma=0.01, kernel=rbf;, score=0.955 total time=   0.0s\n",
      "[CV 4/5] END .......C=1, gamma=0.01, kernel=rbf;, score=0.956 total time=   0.0s\n",
      "[CV 5/5] END .......C=1, gamma=0.01, kernel=rbf;, score=0.956 total time=   0.0s\n",
      "[CV 1/5] END ......C=1, gamma=0.001, kernel=rbf;, score=0.955 total time=   0.0s\n",
      "[CV 2/5] END ......C=1, gamma=0.001, kernel=rbf;, score=0.955 total time=   0.0s\n",
      "[CV 3/5] END ......C=1, gamma=0.001, kernel=rbf;, score=0.955 total time=   0.0s\n",
      "[CV 4/5] END ......C=1, gamma=0.001, kernel=rbf;, score=0.956 total time=   0.0s\n",
      "[CV 5/5] END ......C=1, gamma=0.001, kernel=rbf;, score=0.956 total time=   0.0s\n",
      "[CV 1/5] END .....C=1, gamma=0.0001, kernel=rbf;, score=0.955 total time=   0.0s\n",
      "[CV 2/5] END .....C=1, gamma=0.0001, kernel=rbf;, score=0.955 total time=   0.0s\n",
      "[CV 3/5] END .....C=1, gamma=0.0001, kernel=rbf;, score=0.955 total time=   0.0s\n",
      "[CV 4/5] END .....C=1, gamma=0.0001, kernel=rbf;, score=0.956 total time=   0.0s\n",
      "[CV 5/5] END .....C=1, gamma=0.0001, kernel=rbf;, score=0.956 total time=   0.0s\n",
      "[CV 1/5] END .........C=10, gamma=1, kernel=rbf;, score=0.955 total time=   0.0s\n",
      "[CV 2/5] END .........C=10, gamma=1, kernel=rbf;, score=0.958 total time=   0.0s\n",
      "[CV 3/5] END .........C=10, gamma=1, kernel=rbf;, score=0.952 total time=   0.0s\n",
      "[CV 4/5] END .........C=10, gamma=1, kernel=rbf;, score=0.950 total time=   0.0s\n",
      "[CV 5/5] END .........C=10, gamma=1, kernel=rbf;, score=0.953 total time=   0.0s\n",
      "[CV 1/5] END .......C=10, gamma=0.1, kernel=rbf;, score=0.955 total time=   0.1s\n",
      "[CV 2/5] END .......C=10, gamma=0.1, kernel=rbf;, score=0.955 total time=   0.1s\n",
      "[CV 3/5] END .......C=10, gamma=0.1, kernel=rbf;, score=0.955 total time=   0.1s\n",
      "[CV 4/5] END .......C=10, gamma=0.1, kernel=rbf;, score=0.956 total time=   0.2s\n",
      "[CV 5/5] END .......C=10, gamma=0.1, kernel=rbf;, score=0.956 total time=   0.1s\n",
      "[CV 1/5] END ......C=10, gamma=0.01, kernel=rbf;, score=0.955 total time=   0.0s\n",
      "[CV 2/5] END ......C=10, gamma=0.01, kernel=rbf;, score=0.955 total time=   0.0s\n",
      "[CV 3/5] END ......C=10, gamma=0.01, kernel=rbf;, score=0.955 total time=   0.0s\n",
      "[CV 4/5] END ......C=10, gamma=0.01, kernel=rbf;, score=0.956 total time=   0.0s\n",
      "[CV 5/5] END ......C=10, gamma=0.01, kernel=rbf;, score=0.956 total time=   0.0s\n",
      "[CV 1/5] END .....C=10, gamma=0.001, kernel=rbf;, score=0.955 total time=   0.0s\n",
      "[CV 2/5] END .....C=10, gamma=0.001, kernel=rbf;, score=0.955 total time=   0.0s\n",
      "[CV 3/5] END .....C=10, gamma=0.001, kernel=rbf;, score=0.955 total time=   0.0s\n",
      "[CV 4/5] END .....C=10, gamma=0.001, kernel=rbf;, score=0.956 total time=   0.0s\n",
      "[CV 5/5] END .....C=10, gamma=0.001, kernel=rbf;, score=0.956 total time=   0.0s\n",
      "[CV 1/5] END ....C=10, gamma=0.0001, kernel=rbf;, score=0.955 total time=   0.0s\n",
      "[CV 2/5] END ....C=10, gamma=0.0001, kernel=rbf;, score=0.955 total time=   0.0s\n",
      "[CV 3/5] END ....C=10, gamma=0.0001, kernel=rbf;, score=0.955 total time=   0.0s\n",
      "[CV 4/5] END ....C=10, gamma=0.0001, kernel=rbf;, score=0.956 total time=   0.0s\n",
      "[CV 5/5] END ....C=10, gamma=0.0001, kernel=rbf;, score=0.956 total time=   0.0s\n",
      "[CV 1/5] END ........C=100, gamma=1, kernel=rbf;, score=0.942 total time=   0.1s\n",
      "[CV 2/5] END ........C=100, gamma=1, kernel=rbf;, score=0.942 total time=   0.0s\n",
      "[CV 3/5] END ........C=100, gamma=1, kernel=rbf;, score=0.942 total time=   0.0s\n",
      "[CV 4/5] END ........C=100, gamma=1, kernel=rbf;, score=0.937 total time=   0.0s\n",
      "[CV 5/5] END ........C=100, gamma=1, kernel=rbf;, score=0.946 total time=   0.1s\n",
      "[CV 1/5] END ......C=100, gamma=0.1, kernel=rbf;, score=0.955 total time=   0.3s\n",
      "[CV 2/5] END ......C=100, gamma=0.1, kernel=rbf;, score=0.955 total time=   0.4s\n",
      "[CV 3/5] END ......C=100, gamma=0.1, kernel=rbf;, score=0.955 total time=   0.3s\n",
      "[CV 4/5] END ......C=100, gamma=0.1, kernel=rbf;, score=0.958 total time=   0.3s\n",
      "[CV 5/5] END ......C=100, gamma=0.1, kernel=rbf;, score=0.956 total time=   0.3s\n",
      "[CV 1/5] END .....C=100, gamma=0.01, kernel=rbf;, score=0.955 total time=   0.2s\n",
      "[CV 2/5] END .....C=100, gamma=0.01, kernel=rbf;, score=0.955 total time=   0.2s\n",
      "[CV 3/5] END .....C=100, gamma=0.01, kernel=rbf;, score=0.955 total time=   0.2s\n",
      "[CV 4/5] END .....C=100, gamma=0.01, kernel=rbf;, score=0.956 total time=   0.2s\n",
      "[CV 5/5] END .....C=100, gamma=0.01, kernel=rbf;, score=0.956 total time=   0.2s\n",
      "[CV 1/5] END ....C=100, gamma=0.001, kernel=rbf;, score=0.955 total time=   0.1s\n",
      "[CV 2/5] END ....C=100, gamma=0.001, kernel=rbf;, score=0.955 total time=   0.1s\n",
      "[CV 3/5] END ....C=100, gamma=0.001, kernel=rbf;, score=0.955 total time=   0.0s\n",
      "[CV 4/5] END ....C=100, gamma=0.001, kernel=rbf;, score=0.956 total time=   0.1s\n",
      "[CV 5/5] END ....C=100, gamma=0.001, kernel=rbf;, score=0.956 total time=   0.1s\n",
      "[CV 1/5] END ...C=100, gamma=0.0001, kernel=rbf;, score=0.955 total time=   0.0s\n",
      "[CV 2/5] END ...C=100, gamma=0.0001, kernel=rbf;, score=0.955 total time=   0.0s\n",
      "[CV 3/5] END ...C=100, gamma=0.0001, kernel=rbf;, score=0.955 total time=   0.0s\n",
      "[CV 4/5] END ...C=100, gamma=0.0001, kernel=rbf;, score=0.956 total time=   0.0s\n",
      "[CV 5/5] END ...C=100, gamma=0.0001, kernel=rbf;, score=0.956 total time=   0.0s\n",
      "[CV 1/5] END .......C=1000, gamma=1, kernel=rbf;, score=0.927 total time=   0.2s\n"
     ]
    },
    {
     "name": "stdout",
     "output_type": "stream",
     "text": [
      "[CV 2/5] END .......C=1000, gamma=1, kernel=rbf;, score=0.921 total time=   0.1s\n",
      "[CV 3/5] END .......C=1000, gamma=1, kernel=rbf;, score=0.934 total time=   0.1s\n",
      "[CV 4/5] END .......C=1000, gamma=1, kernel=rbf;, score=0.921 total time=   0.1s\n",
      "[CV 5/5] END .......C=1000, gamma=1, kernel=rbf;, score=0.927 total time=   0.1s\n",
      "[CV 1/5] END .....C=1000, gamma=0.1, kernel=rbf;, score=0.955 total time=   0.6s\n",
      "[CV 2/5] END .....C=1000, gamma=0.1, kernel=rbf;, score=0.956 total time=   0.8s\n",
      "[CV 3/5] END .....C=1000, gamma=0.1, kernel=rbf;, score=0.950 total time=   0.7s\n",
      "[CV 4/5] END .....C=1000, gamma=0.1, kernel=rbf;, score=0.946 total time=   0.6s\n",
      "[CV 5/5] END .....C=1000, gamma=0.1, kernel=rbf;, score=0.952 total time=   0.9s\n",
      "[CV 1/5] END ....C=1000, gamma=0.01, kernel=rbf;, score=0.955 total time=   1.5s\n",
      "[CV 2/5] END ....C=1000, gamma=0.01, kernel=rbf;, score=0.955 total time=   1.7s\n",
      "[CV 3/5] END ....C=1000, gamma=0.01, kernel=rbf;, score=0.955 total time=   1.4s\n",
      "[CV 4/5] END ....C=1000, gamma=0.01, kernel=rbf;, score=0.956 total time=   1.7s\n",
      "[CV 5/5] END ....C=1000, gamma=0.01, kernel=rbf;, score=0.956 total time=   1.5s\n",
      "[CV 1/5] END ...C=1000, gamma=0.001, kernel=rbf;, score=0.955 total time=   0.2s\n",
      "[CV 2/5] END ...C=1000, gamma=0.001, kernel=rbf;, score=0.955 total time=   0.3s\n",
      "[CV 3/5] END ...C=1000, gamma=0.001, kernel=rbf;, score=0.955 total time=   0.3s\n",
      "[CV 4/5] END ...C=1000, gamma=0.001, kernel=rbf;, score=0.956 total time=   0.3s\n",
      "[CV 5/5] END ...C=1000, gamma=0.001, kernel=rbf;, score=0.956 total time=   0.3s\n",
      "[CV 1/5] END ..C=1000, gamma=0.0001, kernel=rbf;, score=0.955 total time=   0.0s\n",
      "[CV 2/5] END ..C=1000, gamma=0.0001, kernel=rbf;, score=0.955 total time=   0.0s\n",
      "[CV 3/5] END ..C=1000, gamma=0.0001, kernel=rbf;, score=0.955 total time=   0.0s\n",
      "[CV 4/5] END ..C=1000, gamma=0.0001, kernel=rbf;, score=0.956 total time=   0.0s\n",
      "[CV 5/5] END ..C=1000, gamma=0.0001, kernel=rbf;, score=0.956 total time=   0.0s\n"
     ]
    },
    {
     "data": {
      "text/html": [
       "<style>#sk-container-id-1 {color: black;background-color: white;}#sk-container-id-1 pre{padding: 0;}#sk-container-id-1 div.sk-toggleable {background-color: white;}#sk-container-id-1 label.sk-toggleable__label {cursor: pointer;display: block;width: 100%;margin-bottom: 0;padding: 0.3em;box-sizing: border-box;text-align: center;}#sk-container-id-1 label.sk-toggleable__label-arrow:before {content: \"▸\";float: left;margin-right: 0.25em;color: #696969;}#sk-container-id-1 label.sk-toggleable__label-arrow:hover:before {color: black;}#sk-container-id-1 div.sk-estimator:hover label.sk-toggleable__label-arrow:before {color: black;}#sk-container-id-1 div.sk-toggleable__content {max-height: 0;max-width: 0;overflow: hidden;text-align: left;background-color: #f0f8ff;}#sk-container-id-1 div.sk-toggleable__content pre {margin: 0.2em;color: black;border-radius: 0.25em;background-color: #f0f8ff;}#sk-container-id-1 input.sk-toggleable__control:checked~div.sk-toggleable__content {max-height: 200px;max-width: 100%;overflow: auto;}#sk-container-id-1 input.sk-toggleable__control:checked~label.sk-toggleable__label-arrow:before {content: \"▾\";}#sk-container-id-1 div.sk-estimator input.sk-toggleable__control:checked~label.sk-toggleable__label {background-color: #d4ebff;}#sk-container-id-1 div.sk-label input.sk-toggleable__control:checked~label.sk-toggleable__label {background-color: #d4ebff;}#sk-container-id-1 input.sk-hidden--visually {border: 0;clip: rect(1px 1px 1px 1px);clip: rect(1px, 1px, 1px, 1px);height: 1px;margin: -1px;overflow: hidden;padding: 0;position: absolute;width: 1px;}#sk-container-id-1 div.sk-estimator {font-family: monospace;background-color: #f0f8ff;border: 1px dotted black;border-radius: 0.25em;box-sizing: border-box;margin-bottom: 0.5em;}#sk-container-id-1 div.sk-estimator:hover {background-color: #d4ebff;}#sk-container-id-1 div.sk-parallel-item::after {content: \"\";width: 100%;border-bottom: 1px solid gray;flex-grow: 1;}#sk-container-id-1 div.sk-label:hover label.sk-toggleable__label {background-color: #d4ebff;}#sk-container-id-1 div.sk-serial::before {content: \"\";position: absolute;border-left: 1px solid gray;box-sizing: border-box;top: 0;bottom: 0;left: 50%;z-index: 0;}#sk-container-id-1 div.sk-serial {display: flex;flex-direction: column;align-items: center;background-color: white;padding-right: 0.2em;padding-left: 0.2em;position: relative;}#sk-container-id-1 div.sk-item {position: relative;z-index: 1;}#sk-container-id-1 div.sk-parallel {display: flex;align-items: stretch;justify-content: center;background-color: white;position: relative;}#sk-container-id-1 div.sk-item::before, #sk-container-id-1 div.sk-parallel-item::before {content: \"\";position: absolute;border-left: 1px solid gray;box-sizing: border-box;top: 0;bottom: 0;left: 50%;z-index: -1;}#sk-container-id-1 div.sk-parallel-item {display: flex;flex-direction: column;z-index: 1;position: relative;background-color: white;}#sk-container-id-1 div.sk-parallel-item:first-child::after {align-self: flex-end;width: 50%;}#sk-container-id-1 div.sk-parallel-item:last-child::after {align-self: flex-start;width: 50%;}#sk-container-id-1 div.sk-parallel-item:only-child::after {width: 0;}#sk-container-id-1 div.sk-dashed-wrapped {border: 1px dashed gray;margin: 0 0.4em 0.5em 0.4em;box-sizing: border-box;padding-bottom: 0.4em;background-color: white;}#sk-container-id-1 div.sk-label label {font-family: monospace;font-weight: bold;display: inline-block;line-height: 1.2em;}#sk-container-id-1 div.sk-label-container {text-align: center;}#sk-container-id-1 div.sk-container {/* jupyter's `normalize.less` sets `[hidden] { display: none; }` but bootstrap.min.css set `[hidden] { display: none !important; }` so we also need the `!important` here to be able to override the default hidden behavior on the sphinx rendered scikit-learn.org. See: https://github.com/scikit-learn/scikit-learn/issues/21755 */display: inline-block !important;position: relative;}#sk-container-id-1 div.sk-text-repr-fallback {display: none;}</style><div id=\"sk-container-id-1\" class=\"sk-top-container\"><div class=\"sk-text-repr-fallback\"><pre>GridSearchCV(estimator=SVC(),\n",
       "             param_grid={&#x27;C&#x27;: [0.1, 1, 10, 100, 1000],\n",
       "                         &#x27;gamma&#x27;: [1, 0.1, 0.01, 0.001, 0.0001],\n",
       "                         &#x27;kernel&#x27;: [&#x27;rbf&#x27;]},\n",
       "             verbose=3)</pre><b>In a Jupyter environment, please rerun this cell to show the HTML representation or trust the notebook. <br />On GitHub, the HTML representation is unable to render, please try loading this page with nbviewer.org.</b></div><div class=\"sk-container\" hidden><div class=\"sk-item sk-dashed-wrapped\"><div class=\"sk-label-container\"><div class=\"sk-label sk-toggleable\"><input class=\"sk-toggleable__control sk-hidden--visually\" id=\"sk-estimator-id-1\" type=\"checkbox\" ><label for=\"sk-estimator-id-1\" class=\"sk-toggleable__label sk-toggleable__label-arrow\">GridSearchCV</label><div class=\"sk-toggleable__content\"><pre>GridSearchCV(estimator=SVC(),\n",
       "             param_grid={&#x27;C&#x27;: [0.1, 1, 10, 100, 1000],\n",
       "                         &#x27;gamma&#x27;: [1, 0.1, 0.01, 0.001, 0.0001],\n",
       "                         &#x27;kernel&#x27;: [&#x27;rbf&#x27;]},\n",
       "             verbose=3)</pre></div></div></div><div class=\"sk-parallel\"><div class=\"sk-parallel-item\"><div class=\"sk-item\"><div class=\"sk-label-container\"><div class=\"sk-label sk-toggleable\"><input class=\"sk-toggleable__control sk-hidden--visually\" id=\"sk-estimator-id-2\" type=\"checkbox\" ><label for=\"sk-estimator-id-2\" class=\"sk-toggleable__label sk-toggleable__label-arrow\">estimator: SVC</label><div class=\"sk-toggleable__content\"><pre>SVC()</pre></div></div></div><div class=\"sk-serial\"><div class=\"sk-item\"><div class=\"sk-estimator sk-toggleable\"><input class=\"sk-toggleable__control sk-hidden--visually\" id=\"sk-estimator-id-3\" type=\"checkbox\" ><label for=\"sk-estimator-id-3\" class=\"sk-toggleable__label sk-toggleable__label-arrow\">SVC</label><div class=\"sk-toggleable__content\"><pre>SVC()</pre></div></div></div></div></div></div></div></div></div></div>"
      ],
      "text/plain": [
       "GridSearchCV(estimator=SVC(),\n",
       "             param_grid={'C': [0.1, 1, 10, 100, 1000],\n",
       "                         'gamma': [1, 0.1, 0.01, 0.001, 0.0001],\n",
       "                         'kernel': ['rbf']},\n",
       "             verbose=3)"
      ]
     },
     "execution_count": 70,
     "metadata": {},
     "output_type": "execute_result"
    }
   ],
   "source": [
    "from sklearn.model_selection import GridSearchCV\n",
    "  \n",
    "# defining parameter range\n",
    "param_grid = {'C': [0.1, 1, 10, 100, 1000], \n",
    "              'gamma': [1, 0.1, 0.01, 0.001, 0.0001],\n",
    "              'kernel': ['rbf']} \n",
    "  \n",
    "grid = GridSearchCV(SVC(), param_grid, refit = True, verbose = 3)\n",
    "  \n",
    "# fitting the model for grid search\n",
    "grid.fit(x_train, y_train)"
   ]
  },
  {
   "cell_type": "code",
   "execution_count": 71,
   "id": "6571684d",
   "metadata": {},
   "outputs": [
    {
     "data": {
      "text/plain": [
       "{'C': 100, 'gamma': 0.1, 'kernel': 'rbf'}"
      ]
     },
     "execution_count": 71,
     "metadata": {},
     "output_type": "execute_result"
    }
   ],
   "source": [
    "grid.best_params_"
   ]
  },
  {
   "cell_type": "code",
   "execution_count": 72,
   "id": "05a91339",
   "metadata": {},
   "outputs": [],
   "source": [
    "from sklearn.svm import SVC\n",
    "classifier = SVC(C= 100, gamma= 0.1, kernel='rbf')\n",
    "classifier.fit(x_train,y_train)\n",
    "y_pred_svc = classifier.predict(x_test)"
   ]
  },
  {
   "cell_type": "code",
   "execution_count": 73,
   "id": "b3fb7481",
   "metadata": {},
   "outputs": [
    {
     "name": "stdout",
     "output_type": "stream",
     "text": [
      "Accuracy Score is :  0.943094250148192\n",
      "Recall Score is :  0.943094250148192\n",
      "Precision Score is :  0.943094250148192\n",
      "F1 score is :  0.943094250148192\n"
     ]
    }
   ],
   "source": [
    "print('Accuracy Score is : ',accuracy_score(y_test,y_pred))\n",
    "print('Recall Score is : ', recall_score(y_test,y_pred, average='micro'))\n",
    "print('Precision Score is : ', precision_score(y_test,y_pred, average='micro'))\n",
    "print('F1 score is : ', f1_score(y_test,y_pred, average='micro'))"
   ]
  },
  {
   "cell_type": "code",
   "execution_count": 74,
   "id": "4e7a899b",
   "metadata": {},
   "outputs": [
    {
     "data": {
      "text/plain": [
       "array([[1591,    0],\n",
       "       [  96,    0]], dtype=int64)"
      ]
     },
     "execution_count": 74,
     "metadata": {},
     "output_type": "execute_result"
    }
   ],
   "source": [
    "confusion_matrix(y_test,y_pred)"
   ]
  },
  {
   "cell_type": "markdown",
   "id": "7392acb9",
   "metadata": {},
   "source": [
    "Successfully trained the data and a prediction model has been created with the help of Support Vector Machine(SVM) algorithm with 94.30 accuracy."
   ]
  },
  {
   "cell_type": "markdown",
   "id": "225fac5d",
   "metadata": {},
   "source": [
    "                                                    -- The End --"
   ]
  }
 ],
 "metadata": {
  "kernelspec": {
   "display_name": "Python 3 (ipykernel)",
   "language": "python",
   "name": "python3"
  },
  "language_info": {
   "codemirror_mode": {
    "name": "ipython",
    "version": 3
   },
   "file_extension": ".py",
   "mimetype": "text/x-python",
   "name": "python",
   "nbconvert_exporter": "python",
   "pygments_lexer": "ipython3",
   "version": "3.9.12"
  }
 },
 "nbformat": 4,
 "nbformat_minor": 5
}
